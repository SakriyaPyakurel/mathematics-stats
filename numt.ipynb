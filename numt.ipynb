{
 "cells": [
  {
   "cell_type": "code",
   "execution_count": 3,
   "id": "19d1e73d",
   "metadata": {},
   "outputs": [],
   "source": [
    "# Function to check for prime numbers\n",
    "def prime(num:int)->bool:\n",
    "    for i in range(2,num):\n",
    "        if num%i == 0:\n",
    "            return False \n",
    "    return True "
   ]
  },
  {
   "cell_type": "code",
   "execution_count": 4,
   "id": "1425dc2e",
   "metadata": {},
   "outputs": [],
   "source": [
    "# Function to check for triangular numbers\n",
    "def istriangular(num:int)->bool:\n",
    "    sum=0\n",
    "    f=0 \n",
    "    for i in range(1,num):\n",
    "        sum+=i \n",
    "        if sum == num:\n",
    "            f=1\n",
    "            break \n",
    "        if f==1:\n",
    "            return True \n",
    "        return False"
   ]
  },
  {
   "cell_type": "code",
   "execution_count": 6,
   "id": "00f63bdd",
   "metadata": {},
   "outputs": [],
   "source": [
    "#Function to check for perfect numbers\n",
    "def isperfect(num:int)->bool:\n",
    "    if num<=0:\n",
    "        raise Exception(f\"{num} is not a valid input for isperfect function\")\n",
    "    nums = []\n",
    "    for i in range(1,num):\n",
    "        if num%i==0:\n",
    "            nums.append(i) \n",
    "    if sum(nums)==num:\n",
    "        return True \n",
    "    return False"
   ]
  },
  {
   "cell_type": "code",
   "execution_count": 8,
   "id": "177fc3f4",
   "metadata": {},
   "outputs": [],
   "source": [
    "# Function to get fibonacci series\n",
    "def fibonacci(num:int)->list:\n",
    "    fib = [0,1]\n",
    "    if num <= 0:\n",
    "        raise Exception(f\"{num} is not a valid input for fibonacci function\") \n",
    "    for i in range(2,num+1):\n",
    "        fib.append(fib[i-1]+fib[i-2]) \n",
    "    return fib"
   ]
  },
  {
   "cell_type": "code",
   "execution_count": 11,
   "id": "40be3069",
   "metadata": {},
   "outputs": [],
   "source": [
    "# Function to get factors of a number\n",
    "def factors(num:int)->list:\n",
    "    if num<=0:\n",
    "        raise Exception(f\"{num} is not a valid input for factors function\") \n",
    "    facts = [] \n",
    "    for i in range(1,num):\n",
    "        if num%i==0:\n",
    "            facts.append(i) \n",
    "    return facts "
   ]
  },
  {
   "cell_type": "code",
   "execution_count": 10,
   "id": "3ea83b21",
   "metadata": {},
   "outputs": [],
   "source": [
    "# Function to get multiples of a number\n",
    "def multiples(num:int,limit=10)->list:\n",
    "        if num<=0 or limit<=0:\n",
    "            raise Exception(f\"num:{num} and limit:{limit} are not valid inputs for multiples function\") \n",
    "        muls = [] \n",
    "        for i in range(1,limit+1):\n",
    "            muls.append(num*i) \n",
    "        return muls"
   ]
  },
  {
   "cell_type": "code",
   "execution_count": 9,
   "id": "6d0fe34b",
   "metadata": {},
   "outputs": [],
   "source": [
    "# Function to get greatest common divisor (gcd) of two numbers\n",
    "def gcd(a:int,b:int)->int:\n",
    "    if a<=0 or b<=0:\n",
    "        raise Exception(f\"a:{a} and b:{b} are not valid inputs for gcd function\") \n",
    "    factors_a = factors(a) \n",
    "    factors_b = factors(b) \n",
    "    common_factors = list(set(factors_a).intersection(factors_b))\n",
    "    return max(common_factors) "
   ]
  },
  {
   "cell_type": "code",
   "execution_count": 12,
   "id": "02ce6408",
   "metadata": {},
   "outputs": [],
   "source": [
    "# get least common multiple (lcm) of two numbers\n",
    "def lcm(a:int,b:int)->int:\n",
    "    if a<=0 or b<=0:\n",
    "        raise Exception(f\"a:{a} and b:{b} are not valid inputs for lcm function\") \n",
    "    return int((a*b)/gcd(a,b)) "
   ]
  },
  {
   "cell_type": "code",
   "execution_count": 13,
   "id": "ded0b7ac",
   "metadata": {},
   "outputs": [],
   "source": [
    "# get variation of two numbers\n",
    "def variation(a:int,b:int,limit=100)->int|None: \n",
    "    if a<=0 or b<=0:\n",
    "        raise Exception(f\"a:{a} and b:{b} are not valid inputs for variation function\")\n",
    "    if a==b:\n",
    "        return 1\n",
    "    if a>b:\n",
    "        if a in multiples(b,limit=limit):\n",
    "            return -1*(multiples(b,limit=limit).index(a)+1)\n",
    "    elif b>a:\n",
    "        if b in multiples(a,limit=100):\n",
    "            return multiples(a).index(b,limit=limit)+1 \n",
    "    return None"
   ]
  }
 ],
 "metadata": {
  "kernelspec": {
   "display_name": "Python 3",
   "language": "python",
   "name": "python3"
  },
  "language_info": {
   "codemirror_mode": {
    "name": "ipython",
    "version": 3
   },
   "file_extension": ".py",
   "mimetype": "text/x-python",
   "name": "python",
   "nbconvert_exporter": "python",
   "pygments_lexer": "ipython3",
   "version": "3.13.2"
  }
 },
 "nbformat": 4,
 "nbformat_minor": 5
}
