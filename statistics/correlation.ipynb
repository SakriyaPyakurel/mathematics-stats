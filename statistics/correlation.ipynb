{
 "cells": [
  {
   "cell_type": "markdown",
   "id": "e6df40bf",
   "metadata": {},
   "source": [
    "# Correlation"
   ]
  },
  {
   "cell_type": "markdown",
   "id": "0d0e97df",
   "metadata": {},
   "source": [
    "Relationship between an independent and dependent variable."
   ]
  },
  {
   "cell_type": "markdown",
   "id": "337ac273",
   "metadata": {},
   "source": [
    "Types of correlation\n",
    "1. Positive: The dependent and independent variable are changing in the same direction (if one increases another increases too and vice versa) \n",
    "2. Negative: The dependent and independent variable are changing in the oppostive direction (if one increases another decreases and vice versa) \n",
    "3. Zero: The dependent variable is unaffected by the change in independent variable"
   ]
  },
  {
   "cell_type": "markdown",
   "id": "d6ab963b",
   "metadata": {},
   "source": [
    "Checking correlation between two variables "
   ]
  },
  {
   "cell_type": "code",
   "execution_count": 1,
   "id": "d8b28d45",
   "metadata": {},
   "outputs": [
    {
     "data": {
      "text/html": [
       "<div>\n",
       "<style scoped>\n",
       "    .dataframe tbody tr th:only-of-type {\n",
       "        vertical-align: middle;\n",
       "    }\n",
       "\n",
       "    .dataframe tbody tr th {\n",
       "        vertical-align: top;\n",
       "    }\n",
       "\n",
       "    .dataframe thead th {\n",
       "        text-align: right;\n",
       "    }\n",
       "</style>\n",
       "<table border=\"1\" class=\"dataframe\">\n",
       "  <thead>\n",
       "    <tr style=\"text-align: right;\">\n",
       "      <th></th>\n",
       "      <th>total_bill</th>\n",
       "      <th>tip</th>\n",
       "      <th>sex</th>\n",
       "      <th>smoker</th>\n",
       "      <th>day</th>\n",
       "      <th>time</th>\n",
       "      <th>size</th>\n",
       "    </tr>\n",
       "  </thead>\n",
       "  <tbody>\n",
       "    <tr>\n",
       "      <th>0</th>\n",
       "      <td>16.99</td>\n",
       "      <td>1.01</td>\n",
       "      <td>Female</td>\n",
       "      <td>No</td>\n",
       "      <td>Sun</td>\n",
       "      <td>Dinner</td>\n",
       "      <td>2</td>\n",
       "    </tr>\n",
       "    <tr>\n",
       "      <th>1</th>\n",
       "      <td>10.34</td>\n",
       "      <td>1.66</td>\n",
       "      <td>Male</td>\n",
       "      <td>No</td>\n",
       "      <td>Sun</td>\n",
       "      <td>Dinner</td>\n",
       "      <td>3</td>\n",
       "    </tr>\n",
       "    <tr>\n",
       "      <th>2</th>\n",
       "      <td>21.01</td>\n",
       "      <td>3.50</td>\n",
       "      <td>Male</td>\n",
       "      <td>No</td>\n",
       "      <td>Sun</td>\n",
       "      <td>Dinner</td>\n",
       "      <td>3</td>\n",
       "    </tr>\n",
       "    <tr>\n",
       "      <th>3</th>\n",
       "      <td>23.68</td>\n",
       "      <td>3.31</td>\n",
       "      <td>Male</td>\n",
       "      <td>No</td>\n",
       "      <td>Sun</td>\n",
       "      <td>Dinner</td>\n",
       "      <td>2</td>\n",
       "    </tr>\n",
       "    <tr>\n",
       "      <th>4</th>\n",
       "      <td>24.59</td>\n",
       "      <td>3.61</td>\n",
       "      <td>Female</td>\n",
       "      <td>No</td>\n",
       "      <td>Sun</td>\n",
       "      <td>Dinner</td>\n",
       "      <td>4</td>\n",
       "    </tr>\n",
       "  </tbody>\n",
       "</table>\n",
       "</div>"
      ],
      "text/plain": [
       "   total_bill   tip     sex smoker  day    time  size\n",
       "0       16.99  1.01  Female     No  Sun  Dinner     2\n",
       "1       10.34  1.66    Male     No  Sun  Dinner     3\n",
       "2       21.01  3.50    Male     No  Sun  Dinner     3\n",
       "3       23.68  3.31    Male     No  Sun  Dinner     2\n",
       "4       24.59  3.61  Female     No  Sun  Dinner     4"
      ]
     },
     "execution_count": 1,
     "metadata": {},
     "output_type": "execute_result"
    }
   ],
   "source": [
    "# import necessary libararies \n",
    "import seaborn as sb \n",
    "df = sb.load_dataset('tips') \n",
    "df.head()"
   ]
  },
  {
   "cell_type": "code",
   "execution_count": 2,
   "id": "07c82ef8",
   "metadata": {},
   "outputs": [
    {
     "data": {
      "text/html": [
       "<div>\n",
       "<style scoped>\n",
       "    .dataframe tbody tr th:only-of-type {\n",
       "        vertical-align: middle;\n",
       "    }\n",
       "\n",
       "    .dataframe tbody tr th {\n",
       "        vertical-align: top;\n",
       "    }\n",
       "\n",
       "    .dataframe thead th {\n",
       "        text-align: right;\n",
       "    }\n",
       "</style>\n",
       "<table border=\"1\" class=\"dataframe\">\n",
       "  <thead>\n",
       "    <tr style=\"text-align: right;\">\n",
       "      <th></th>\n",
       "      <th>tip</th>\n",
       "      <th>total_bill</th>\n",
       "    </tr>\n",
       "  </thead>\n",
       "  <tbody>\n",
       "    <tr>\n",
       "      <th>tip</th>\n",
       "      <td>1.000000</td>\n",
       "      <td>0.675734</td>\n",
       "    </tr>\n",
       "    <tr>\n",
       "      <th>total_bill</th>\n",
       "      <td>0.675734</td>\n",
       "      <td>1.000000</td>\n",
       "    </tr>\n",
       "  </tbody>\n",
       "</table>\n",
       "</div>"
      ],
      "text/plain": [
       "                 tip  total_bill\n",
       "tip         1.000000    0.675734\n",
       "total_bill  0.675734    1.000000"
      ]
     },
     "execution_count": 2,
     "metadata": {},
     "output_type": "execute_result"
    }
   ],
   "source": [
    "# Checking correlation between tip and total bill \n",
    "df[['tip', 'total_bill']].corr()"
   ]
  },
  {
   "cell_type": "markdown",
   "id": "2dfa8c00",
   "metadata": {},
   "source": [
    "<b>Interpretation:</b> The correlation of 0.67 shows that there is positive significant relationship between tip and total_bill indicating the significant increase in total bill as the increase in tip occurs."
   ]
  },
  {
   "cell_type": "markdown",
   "id": "5f10b1d3",
   "metadata": {},
   "source": [
    "# Main Approaches(Methods) for calculating correlation "
   ]
  },
  {
   "cell_type": "markdown",
   "id": "4a1b2395",
   "metadata": {},
   "source": [
    "1. Pearson's correlation coefficient\n",
    "2. Spearman's rank correlation coefficient"
   ]
  },
  {
   "cell_type": "markdown",
   "id": "61c8918f",
   "metadata": {},
   "source": [
    "# Pearson's correlation coefficient"
   ]
  },
  {
   "cell_type": "markdown",
   "id": "02e1b32f",
   "metadata": {},
   "source": [
    "Pearson's correlation coefficient is a measure of the linear correlation between two variables X and Y. It has a value between +1 and -1 where 1 is total positive linear correlation, 0 is no linear correlation, and -1 is total negative correlation. It is applied assuming that the dataset is normally distributed. It is a parametric test."
   ]
  },
  {
   "cell_type": "markdown",
   "id": "afe84fc6",
   "metadata": {},
   "source": [
    "# Example of Pearson's correlation coefficient from formula without using library"
   ]
  },
  {
   "cell_type": "code",
   "execution_count": 3,
   "id": "55ce1470",
   "metadata": {},
   "outputs": [],
   "source": [
    "# pearson's correlation coefficient\n",
    "import numpy as np\n",
    "import pandas as pd\n",
    "\n",
    "def pearson(x,y):\n",
    "    x = np.array(x)\n",
    "    y = np.array(y)\n",
    "    if len(x) != len(y):\n",
    "        raise ValueError(\"The length of x and y must be the same.\")\n",
    "    x_mean = np.mean(x) \n",
    "    y_mean = np.mean(y) \n",
    "    x_std = np.std(x)\n",
    "    y_std = np.std(y)\n",
    "    n = len(x) \n",
    "    return sum((x - x_mean) * (y - y_mean)) / (n * x_std * y_std)"
   ]
  },
  {
   "cell_type": "code",
   "execution_count": 5,
   "id": "0f30c718",
   "metadata": {},
   "outputs": [
    {
     "name": "stdout",
     "output_type": "stream",
     "text": [
      "Pearson's correlation coefficient: 0.794101388315984\n"
     ]
    }
   ],
   "source": [
    "# example dataset \n",
    "x = np.array([1,2,3,4,5]) \n",
    "y = np.array([2,3,7,8,6]) \n",
    "# calculating pearson's correlation coefficient \n",
    "pearson_coefficient = pearson(x, y) \n",
    "print(f\"Pearson's correlation coefficient: {pearson_coefficient}\") "
   ]
  },
  {
   "cell_type": "markdown",
   "id": "32183fe3",
   "metadata": {},
   "source": [
    "<b>Interpreations:</b><br>1. Pearson's correlation coefficient is 0.79 which shows the positive correlation between x and y variable.<br>2.The dependent and independent variables are not well defined."
   ]
  }
 ],
 "metadata": {
  "kernelspec": {
   "display_name": "Python 3",
   "language": "python",
   "name": "python3"
  },
  "language_info": {
   "codemirror_mode": {
    "name": "ipython",
    "version": 3
   },
   "file_extension": ".py",
   "mimetype": "text/x-python",
   "name": "python",
   "nbconvert_exporter": "python",
   "pygments_lexer": "ipython3",
   "version": "3.13.2"
  }
 },
 "nbformat": 4,
 "nbformat_minor": 5
}
