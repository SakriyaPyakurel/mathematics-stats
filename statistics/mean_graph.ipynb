{
 "cells": [
  {
   "cell_type": "code",
   "execution_count": null,
   "id": "1416bdec",
   "metadata": {},
   "outputs": [],
   "source": [
    "# Initialization of data\n",
    "import numpy as np\n",
    "data = np.array([5, 10, 15, 20, 25])\n",
    "data"
   ]
  },
  {
   "cell_type": "code",
   "execution_count": null,
   "id": "f633c269",
   "metadata": {},
   "outputs": [],
   "source": [
    "# Arithmetic Mean\n",
    "arithmetic_mean = np.mean(data)\n",
    "float(arithmetic_mean)"
   ]
  },
  {
   "cell_type": "code",
   "execution_count": null,
   "id": "e26b645a",
   "metadata": {},
   "outputs": [],
   "source": [
    "# Geometric Mean \n",
    "from scipy.stats import gmean \n",
    "geometric_mean = gmean(data) \n",
    "float(geometric_mean)"
   ]
  },
  {
   "cell_type": "code",
   "execution_count": null,
   "id": "b1b76d0d",
   "metadata": {},
   "outputs": [],
   "source": [
    "# Harmonic Mean \n",
    "from scipy.stats import hmean \n",
    "harmonic_mean = hmean(data) \n",
    "float(harmonic_mean)"
   ]
  },
  {
   "cell_type": "code",
   "execution_count": null,
   "id": "49c0744c",
   "metadata": {},
   "outputs": [],
   "source": [
    "#plotting the data and the means \n",
    "from matplotlib import pyplot as plt\n",
    "plt.figure(figsize=(10, 6))\n",
    "plt.bar(range(len(data)), data, color='lightblue', label='Data Points')\n",
    "plt.axhline(arithmetic_mean, color='red', linestyle='dashed', label=f'Arithmetic Mean: {arithmetic_mean}')\n",
    "plt.axhline(geometric_mean, color='green', linestyle='dashed', label=f'Geometric Mean: {geometric_mean:.2f}')\n",
    "plt.axhline(harmonic_mean, color='purple', linestyle='dashed', label=f'Harmonic Mean: {harmonic_mean:.2f}')\n",
    "plt.xlabel('Data Index')\n",
    "plt.ylabel('Values')\n",
    "plt.title('Different Types of Means')\n",
    "plt.legend()\n",
    "plt"
   ]
  }
 ],
 "metadata": {
  "kernelspec": {
   "display_name": "Python 3",
   "language": "python",
   "name": "python3"
  },
  "language_info": {
   "codemirror_mode": {
    "name": "ipython",
    "version": 3
   },
   "file_extension": ".py",
   "mimetype": "text/x-python",
   "name": "python",
   "nbconvert_exporter": "python",
   "pygments_lexer": "ipython3",
   "version": "3.13.2"
  }
 },
 "nbformat": 4,
 "nbformat_minor": 5
}
