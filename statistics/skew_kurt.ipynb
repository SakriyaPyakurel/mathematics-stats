{
 "cells": [
  {
   "cell_type": "markdown",
   "id": "f5c84ad1",
   "metadata": {},
   "source": [
    "Kurtosis and Skewness"
   ]
  },
  {
   "cell_type": "code",
   "execution_count": 3,
   "id": "5f314221",
   "metadata": {},
   "outputs": [
    {
     "data": {
      "text/html": [
       "<div>\n",
       "<style scoped>\n",
       "    .dataframe tbody tr th:only-of-type {\n",
       "        vertical-align: middle;\n",
       "    }\n",
       "\n",
       "    .dataframe tbody tr th {\n",
       "        vertical-align: top;\n",
       "    }\n",
       "\n",
       "    .dataframe thead th {\n",
       "        text-align: right;\n",
       "    }\n",
       "</style>\n",
       "<table border=\"1\" class=\"dataframe\">\n",
       "  <thead>\n",
       "    <tr style=\"text-align: right;\">\n",
       "      <th></th>\n",
       "      <th>survived</th>\n",
       "      <th>pclass</th>\n",
       "      <th>sex</th>\n",
       "      <th>age</th>\n",
       "      <th>sibsp</th>\n",
       "      <th>parch</th>\n",
       "      <th>fare</th>\n",
       "      <th>embarked</th>\n",
       "      <th>class</th>\n",
       "      <th>who</th>\n",
       "      <th>adult_male</th>\n",
       "      <th>deck</th>\n",
       "      <th>embark_town</th>\n",
       "      <th>alive</th>\n",
       "      <th>alone</th>\n",
       "    </tr>\n",
       "  </thead>\n",
       "  <tbody>\n",
       "    <tr>\n",
       "      <th>0</th>\n",
       "      <td>0</td>\n",
       "      <td>3</td>\n",
       "      <td>male</td>\n",
       "      <td>22.0</td>\n",
       "      <td>1</td>\n",
       "      <td>0</td>\n",
       "      <td>7.2500</td>\n",
       "      <td>S</td>\n",
       "      <td>Third</td>\n",
       "      <td>man</td>\n",
       "      <td>True</td>\n",
       "      <td>NaN</td>\n",
       "      <td>Southampton</td>\n",
       "      <td>no</td>\n",
       "      <td>False</td>\n",
       "    </tr>\n",
       "    <tr>\n",
       "      <th>1</th>\n",
       "      <td>1</td>\n",
       "      <td>1</td>\n",
       "      <td>female</td>\n",
       "      <td>38.0</td>\n",
       "      <td>1</td>\n",
       "      <td>0</td>\n",
       "      <td>71.2833</td>\n",
       "      <td>C</td>\n",
       "      <td>First</td>\n",
       "      <td>woman</td>\n",
       "      <td>False</td>\n",
       "      <td>C</td>\n",
       "      <td>Cherbourg</td>\n",
       "      <td>yes</td>\n",
       "      <td>False</td>\n",
       "    </tr>\n",
       "    <tr>\n",
       "      <th>2</th>\n",
       "      <td>1</td>\n",
       "      <td>3</td>\n",
       "      <td>female</td>\n",
       "      <td>26.0</td>\n",
       "      <td>0</td>\n",
       "      <td>0</td>\n",
       "      <td>7.9250</td>\n",
       "      <td>S</td>\n",
       "      <td>Third</td>\n",
       "      <td>woman</td>\n",
       "      <td>False</td>\n",
       "      <td>NaN</td>\n",
       "      <td>Southampton</td>\n",
       "      <td>yes</td>\n",
       "      <td>True</td>\n",
       "    </tr>\n",
       "    <tr>\n",
       "      <th>3</th>\n",
       "      <td>1</td>\n",
       "      <td>1</td>\n",
       "      <td>female</td>\n",
       "      <td>35.0</td>\n",
       "      <td>1</td>\n",
       "      <td>0</td>\n",
       "      <td>53.1000</td>\n",
       "      <td>S</td>\n",
       "      <td>First</td>\n",
       "      <td>woman</td>\n",
       "      <td>False</td>\n",
       "      <td>C</td>\n",
       "      <td>Southampton</td>\n",
       "      <td>yes</td>\n",
       "      <td>False</td>\n",
       "    </tr>\n",
       "    <tr>\n",
       "      <th>4</th>\n",
       "      <td>0</td>\n",
       "      <td>3</td>\n",
       "      <td>male</td>\n",
       "      <td>35.0</td>\n",
       "      <td>0</td>\n",
       "      <td>0</td>\n",
       "      <td>8.0500</td>\n",
       "      <td>S</td>\n",
       "      <td>Third</td>\n",
       "      <td>man</td>\n",
       "      <td>True</td>\n",
       "      <td>NaN</td>\n",
       "      <td>Southampton</td>\n",
       "      <td>no</td>\n",
       "      <td>True</td>\n",
       "    </tr>\n",
       "  </tbody>\n",
       "</table>\n",
       "</div>"
      ],
      "text/plain": [
       "   survived  pclass     sex   age  sibsp  parch     fare embarked  class  \\\n",
       "0         0       3    male  22.0      1      0   7.2500        S  Third   \n",
       "1         1       1  female  38.0      1      0  71.2833        C  First   \n",
       "2         1       3  female  26.0      0      0   7.9250        S  Third   \n",
       "3         1       1  female  35.0      1      0  53.1000        S  First   \n",
       "4         0       3    male  35.0      0      0   8.0500        S  Third   \n",
       "\n",
       "     who  adult_male deck  embark_town alive  alone  \n",
       "0    man        True  NaN  Southampton    no  False  \n",
       "1  woman       False    C    Cherbourg   yes  False  \n",
       "2  woman       False  NaN  Southampton   yes   True  \n",
       "3  woman       False    C  Southampton   yes  False  \n",
       "4    man        True  NaN  Southampton    no   True  "
      ]
     },
     "execution_count": 3,
     "metadata": {},
     "output_type": "execute_result"
    }
   ],
   "source": [
    "import scipy.stats as st\n",
    "import seaborn as sb\n",
    "df = sb.load_dataset('titanic') # loading the dataset \n",
    "df.head()"
   ]
  },
  {
   "cell_type": "code",
   "execution_count": 4,
   "id": "795a824d",
   "metadata": {},
   "outputs": [
    {
     "data": {
      "text/plain": [
       "np.float64(nan)"
      ]
     },
     "execution_count": 4,
     "metadata": {},
     "output_type": "execute_result"
    }
   ],
   "source": [
    "# Kurtosis of age \n",
    "st.kurtosis(df['age'],fisher=False)"
   ]
  },
  {
   "cell_type": "markdown",
   "id": "019d92d6",
   "metadata": {},
   "source": [
    "We got kurtosis of age as nan why? It is because we got null values in age column \n",
    "For getting the right kurtosis we need to properly handle the null values first "
   ]
  },
  {
   "cell_type": "code",
   "execution_count": 9,
   "id": "545eef1f",
   "metadata": {},
   "outputs": [
    {
     "data": {
      "text/plain": [
       "np.int64(0)"
      ]
     },
     "execution_count": 9,
     "metadata": {},
     "output_type": "execute_result"
    }
   ],
   "source": [
    "# Getting rid of the null values in age column \n",
    "df['age']=df['age'].fillna(df['age'].median()) \n",
    "df['age'].isna().sum()"
   ]
  },
  {
   "cell_type": "markdown",
   "id": "5184cc82",
   "metadata": {},
   "source": [
    "We got rid of the null values in the age column now lets calculate the kurtosis again "
   ]
  },
  {
   "cell_type": "code",
   "execution_count": 10,
   "id": "1dc2d3ea",
   "metadata": {},
   "outputs": [
    {
     "data": {
      "text/plain": [
       "np.float64(3.9815760369363544)"
      ]
     },
     "execution_count": 10,
     "metadata": {},
     "output_type": "execute_result"
    }
   ],
   "source": [
    "# Calculating kurtosis after getting rid of the null values in the age column \n",
    "st.kurtosis(df['age'],fisher=False)"
   ]
  },
  {
   "cell_type": "code",
   "execution_count": 11,
   "id": "16e11e14",
   "metadata": {},
   "outputs": [
    {
     "data": {
      "text/plain": [
       "<Axes: xlabel='age', ylabel='Count'>"
      ]
     },
     "execution_count": 11,
     "metadata": {},
     "output_type": "execute_result"
    },
    {
     "data": {
      "image/png": "[encoded data removed]",
      "text/plain": [
       "<Figure size 640x480 with 1 Axes>"
      ]
     },
     "metadata": {},
     "output_type": "display_data"
    }
   ],
   "source": [
    "# Plotting age column to get better idea of the kurtosis \n",
    "sb.histplot(df,x='age',kde='True')"
   ]
  },
  {
   "cell_type": "markdown",
   "id": "cfdc0dff",
   "metadata": {},
   "source": [
    "In the above plot we can see the minimum kurtosis of 3 of the age column is demonstrated with minimum sharpness at the top of the curve"
   ]
  },
  {
   "cell_type": "code",
   "execution_count": 13,
   "id": "8097d338",
   "metadata": {},
   "outputs": [
    {
     "data": {
      "text/plain": [
       "np.float64(36.20428925264474)"
      ]
     },
     "execution_count": 13,
     "metadata": {},
     "output_type": "execute_result"
    }
   ],
   "source": [
    "# Calculating kurtosis of the fare column \n",
    "st.kurtosis(df['fare'],fisher=False)"
   ]
  },
  {
   "cell_type": "markdown",
   "id": "efef3336",
   "metadata": {},
   "source": [
    "The kurtosis of the fare column is very much higher than 0 that means that the top of the curve is filled with sharpness due to concentration of most data near the mean \n",
    "lets see it in the plot too "
   ]
  },
  {
   "cell_type": "code",
   "execution_count": 14,
   "id": "c1d292aa",
   "metadata": {},
   "outputs": [
    {
     "data": {
      "text/plain": [
       "<Axes: xlabel='fare', ylabel='Count'>"
      ]
     },
     "execution_count": 14,
     "metadata": {},
     "output_type": "execute_result"
    },
    {
     "data": {
      "image/png": "[encoded data removed]",
      "text/plain": [
       "<Figure size 640x480 with 1 Axes>"
      ]
     },
     "metadata": {},
     "output_type": "display_data"
    }
   ],
   "source": [
    "# Plotting fare column to examine its kurtosis more closely \n",
    "sb.histplot(df,x='fare',kde=True)"
   ]
  },
  {
   "cell_type": "code",
   "execution_count": 15,
   "id": "ffe03001",
   "metadata": {},
   "outputs": [
    {
     "data": {
      "text/plain": [
       "np.float64(0.5093852558219663)"
      ]
     },
     "execution_count": 15,
     "metadata": {},
     "output_type": "execute_result"
    }
   ],
   "source": [
    "# skewness of age \n",
    "st.skew(df['age'])"
   ]
  },
  {
   "cell_type": "markdown",
   "id": "4a9cc332",
   "metadata": {},
   "source": [
    "skewness of age is very low almost very close to 0 so it dictates the idea that the age column is very much normal"
   ]
  },
  {
   "cell_type": "code",
   "execution_count": 16,
   "id": "e3d29d38",
   "metadata": {},
   "outputs": [
    {
     "data": {
      "text/plain": [
       "np.float64(4.7792532923723545)"
      ]
     },
     "execution_count": 16,
     "metadata": {},
     "output_type": "execute_result"
    }
   ],
   "source": [
    "# skewness of fare \n",
    "st.skew(df['fare'])"
   ]
  },
  {
   "cell_type": "markdown",
   "id": "648db9b3",
   "metadata": {},
   "source": [
    "skewness of fare is very high compared to age column so it dictates the idea that the fare column is close to normal but not very greatly normal (postively skewed)"
   ]
  },
  {
   "cell_type": "markdown",
   "id": "79d32b63",
   "metadata": {},
   "source": [
    "Now lets demonstrate a man-made normal distribution of data and check for its kurtosis and skewness "
   ]
  },
  {
   "cell_type": "code",
   "execution_count": 18,
   "id": "4ec86076",
   "metadata": {},
   "outputs": [
    {
     "name": "stdout",
     "output_type": "stream",
     "text": [
      "Skewness of the dataset: 0.03385895323565712 \n",
      "Kurtosis of the dataset: -0.0467663244783294 \n"
     ]
    }
   ],
   "source": [
    "import numpy as np\n",
    "# Generating sample data  \n",
    "np.random.seed(0) \n",
    "data = np.random.normal(0,1,1000) \n",
    "# Calculating skewness and kurtosis \n",
    "skewness = st.skew(data) \n",
    "kurtosis = st.kurtosis(data,fisher=True) # 'fisher=True' gives the excess kurtosis \n",
    "# Displaying the results \n",
    "print(f\"Skewness of the dataset: {skewness} \") \n",
    "print(f\"Kurtosis of the dataset: {kurtosis} \")"
   ]
  },
  {
   "cell_type": "markdown",
   "id": "aabb2ffd",
   "metadata": {},
   "source": [
    "From the above results we can say that the normalized data have minimal skewness and kurtosis close to zero. \n",
    "The data is positively skewed and kurtosis is negative both being close to zero indicating the normalness of the distribution"
   ]
  },
  {
   "cell_type": "code",
   "execution_count": 19,
   "id": "550e88b8",
   "metadata": {},
   "outputs": [
    {
     "data": {
      "text/plain": [
       "<Axes: ylabel='Count'>"
      ]
     },
     "execution_count": 19,
     "metadata": {},
     "output_type": "execute_result"
    },
    {
     "data": {
      "image/png": "[encoded data removed]",
      "text/plain": [
       "<Figure size 640x480 with 1 Axes>"
      ]
     },
     "metadata": {},
     "output_type": "display_data"
    }
   ],
   "source": [
    "# Plotting the normal data to indicate its normalness visually \n",
    "sb.histplot(data,kde=True)"
   ]
  },
  {
   "cell_type": "markdown",
   "id": "67d01348",
   "metadata": {},
   "source": [
    "In the above plot the curve top is close to 0 from both negative and positive sides indicating minimum skewness and kurtosis of the data with the distribution being greatly normal."
   ]
  }
 ],
 "metadata": {
  "kernelspec": {
   "display_name": "Python 3",
   "language": "python",
   "name": "python3"
  },
  "language_info": {
   "codemirror_mode": {
    "name": "ipython",
    "version": 3
   },
   "file_extension": ".py",
   "mimetype": "text/x-python",
   "name": "python",
   "nbconvert_exporter": "python",
   "pygments_lexer": "ipython3",
   "version": "3.13.2"
  }
 },
 "nbformat": 4,
 "nbformat_minor": 5
}
