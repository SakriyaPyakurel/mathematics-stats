{
 "cells": [
  {
   "cell_type": "markdown",
   "id": "10d29f76",
   "metadata": {},
   "source": [
    "# Statistiscal Analysis"
   ]
  },
  {
   "cell_type": "markdown",
   "id": "23d7c7f5",
   "metadata": {},
   "source": [
    "Chi-square Tests"
   ]
  },
  {
   "cell_type": "code",
   "execution_count": 1,
   "id": "776644e1",
   "metadata": {},
   "outputs": [],
   "source": [
    "# import necessary libraries \n",
    "import pandas as pd\n",
    "import numpy as np \n",
    "import seaborn as sb \n",
    "from scipy import stats"
   ]
  },
  {
   "cell_type": "code",
   "execution_count": 3,
   "id": "8160f3f1",
   "metadata": {},
   "outputs": [
    {
     "data": {
      "text/html": [
       "<div>\n",
       "<style scoped>\n",
       "    .dataframe tbody tr th:only-of-type {\n",
       "        vertical-align: middle;\n",
       "    }\n",
       "\n",
       "    .dataframe tbody tr th {\n",
       "        vertical-align: top;\n",
       "    }\n",
       "\n",
       "    .dataframe thead th {\n",
       "        text-align: right;\n",
       "    }\n",
       "</style>\n",
       "<table border=\"1\" class=\"dataframe\">\n",
       "  <thead>\n",
       "    <tr style=\"text-align: right;\">\n",
       "      <th></th>\n",
       "      <th>survived</th>\n",
       "      <th>pclass</th>\n",
       "      <th>sex</th>\n",
       "      <th>age</th>\n",
       "      <th>sibsp</th>\n",
       "      <th>parch</th>\n",
       "      <th>fare</th>\n",
       "      <th>embarked</th>\n",
       "      <th>class</th>\n",
       "      <th>who</th>\n",
       "      <th>adult_male</th>\n",
       "      <th>deck</th>\n",
       "      <th>embark_town</th>\n",
       "      <th>alive</th>\n",
       "      <th>alone</th>\n",
       "    </tr>\n",
       "  </thead>\n",
       "  <tbody>\n",
       "    <tr>\n",
       "      <th>0</th>\n",
       "      <td>0</td>\n",
       "      <td>3</td>\n",
       "      <td>male</td>\n",
       "      <td>22.0</td>\n",
       "      <td>1</td>\n",
       "      <td>0</td>\n",
       "      <td>7.2500</td>\n",
       "      <td>S</td>\n",
       "      <td>Third</td>\n",
       "      <td>man</td>\n",
       "      <td>True</td>\n",
       "      <td>NaN</td>\n",
       "      <td>Southampton</td>\n",
       "      <td>no</td>\n",
       "      <td>False</td>\n",
       "    </tr>\n",
       "    <tr>\n",
       "      <th>1</th>\n",
       "      <td>1</td>\n",
       "      <td>1</td>\n",
       "      <td>female</td>\n",
       "      <td>38.0</td>\n",
       "      <td>1</td>\n",
       "      <td>0</td>\n",
       "      <td>71.2833</td>\n",
       "      <td>C</td>\n",
       "      <td>First</td>\n",
       "      <td>woman</td>\n",
       "      <td>False</td>\n",
       "      <td>C</td>\n",
       "      <td>Cherbourg</td>\n",
       "      <td>yes</td>\n",
       "      <td>False</td>\n",
       "    </tr>\n",
       "    <tr>\n",
       "      <th>2</th>\n",
       "      <td>1</td>\n",
       "      <td>3</td>\n",
       "      <td>female</td>\n",
       "      <td>26.0</td>\n",
       "      <td>0</td>\n",
       "      <td>0</td>\n",
       "      <td>7.9250</td>\n",
       "      <td>S</td>\n",
       "      <td>Third</td>\n",
       "      <td>woman</td>\n",
       "      <td>False</td>\n",
       "      <td>NaN</td>\n",
       "      <td>Southampton</td>\n",
       "      <td>yes</td>\n",
       "      <td>True</td>\n",
       "    </tr>\n",
       "    <tr>\n",
       "      <th>3</th>\n",
       "      <td>1</td>\n",
       "      <td>1</td>\n",
       "      <td>female</td>\n",
       "      <td>35.0</td>\n",
       "      <td>1</td>\n",
       "      <td>0</td>\n",
       "      <td>53.1000</td>\n",
       "      <td>S</td>\n",
       "      <td>First</td>\n",
       "      <td>woman</td>\n",
       "      <td>False</td>\n",
       "      <td>C</td>\n",
       "      <td>Southampton</td>\n",
       "      <td>yes</td>\n",
       "      <td>False</td>\n",
       "    </tr>\n",
       "    <tr>\n",
       "      <th>4</th>\n",
       "      <td>0</td>\n",
       "      <td>3</td>\n",
       "      <td>male</td>\n",
       "      <td>35.0</td>\n",
       "      <td>0</td>\n",
       "      <td>0</td>\n",
       "      <td>8.0500</td>\n",
       "      <td>S</td>\n",
       "      <td>Third</td>\n",
       "      <td>man</td>\n",
       "      <td>True</td>\n",
       "      <td>NaN</td>\n",
       "      <td>Southampton</td>\n",
       "      <td>no</td>\n",
       "      <td>True</td>\n",
       "    </tr>\n",
       "  </tbody>\n",
       "</table>\n",
       "</div>"
      ],
      "text/plain": [
       "   survived  pclass     sex   age  sibsp  parch     fare embarked  class  \\\n",
       "0         0       3    male  22.0      1      0   7.2500        S  Third   \n",
       "1         1       1  female  38.0      1      0  71.2833        C  First   \n",
       "2         1       3  female  26.0      0      0   7.9250        S  Third   \n",
       "3         1       1  female  35.0      1      0  53.1000        S  First   \n",
       "4         0       3    male  35.0      0      0   8.0500        S  Third   \n",
       "\n",
       "     who  adult_male deck  embark_town alive  alone  \n",
       "0    man        True  NaN  Southampton    no  False  \n",
       "1  woman       False    C    Cherbourg   yes  False  \n",
       "2  woman       False  NaN  Southampton   yes   True  \n",
       "3  woman       False    C  Southampton   yes  False  \n",
       "4    man        True  NaN  Southampton    no   True  "
      ]
     },
     "execution_count": 3,
     "metadata": {},
     "output_type": "execute_result"
    }
   ],
   "source": [
    "# load the dataset \n",
    "df = sb.load_dataset(\"titanic\") \n",
    "df.head()"
   ]
  },
  {
   "cell_type": "markdown",
   "id": "c0be71cf",
   "metadata": {},
   "source": [
    "Null Hypothesis : There is no significant association between gender ('Sex') and survival('Survived') on the Titanic. This means any observed difference in survival rates between genders in the dataset are due to chance and not any kind of underlying relationship."
   ]
  },
  {
   "cell_type": "markdown",
   "id": "a2238f19",
   "metadata": {},
   "source": [
    "Alternate Hypothesis : There is a significant association between gender ('Sex') and survival('Survived') on the Titanic. This implies that the difference in survival rates are not just due to chance but are influenced by the passengers' gender."
   ]
  },
  {
   "cell_type": "code",
   "execution_count": 5,
   "id": "de8931aa",
   "metadata": {},
   "outputs": [
    {
     "data": {
      "text/html": [
       "<div>\n",
       "<style scoped>\n",
       "    .dataframe tbody tr th:only-of-type {\n",
       "        vertical-align: middle;\n",
       "    }\n",
       "\n",
       "    .dataframe tbody tr th {\n",
       "        vertical-align: top;\n",
       "    }\n",
       "\n",
       "    .dataframe thead th {\n",
       "        text-align: right;\n",
       "    }\n",
       "</style>\n",
       "<table border=\"1\" class=\"dataframe\">\n",
       "  <thead>\n",
       "    <tr style=\"text-align: right;\">\n",
       "      <th>sex</th>\n",
       "      <th>female</th>\n",
       "      <th>male</th>\n",
       "    </tr>\n",
       "    <tr>\n",
       "      <th>survived</th>\n",
       "      <th></th>\n",
       "      <th></th>\n",
       "    </tr>\n",
       "  </thead>\n",
       "  <tbody>\n",
       "    <tr>\n",
       "      <th>0</th>\n",
       "      <td>81</td>\n",
       "      <td>468</td>\n",
       "    </tr>\n",
       "    <tr>\n",
       "      <th>1</th>\n",
       "      <td>233</td>\n",
       "      <td>109</td>\n",
       "    </tr>\n",
       "  </tbody>\n",
       "</table>\n",
       "</div>"
      ],
      "text/plain": [
       "sex       female  male\n",
       "survived              \n",
       "0             81   468\n",
       "1            233   109"
      ]
     },
     "execution_count": 5,
     "metadata": {},
     "output_type": "execute_result"
    }
   ],
   "source": [
    "# Contingency table for 'sex' and 'survived'\n",
    "contigency_table = pd.crosstab(df['survived'], df['sex'])\n",
    "contigency_table"
   ]
  },
  {
   "cell_type": "code",
   "execution_count": null,
   "id": "ad38158f",
   "metadata": {},
   "outputs": [
    {
     "name": "stdout",
     "output_type": "stream",
     "text": [
      "Chi-Squared Test Results:\n",
      "Chi2:  260.71702016732104\n",
      "p-value:  1.1973570627755645e-58\n",
      "Degree of Freedom  1\n",
      "Expected Frequencies: \n",
      " [[193.47474747 355.52525253]\n",
      " [120.52525253 221.47474747]]\n"
     ]
    }
   ],
   "source": [
    "# Perform Chi-Sqaured test \n",
    "chi2,p,dof,exp=stats.chi2_contingency(contigency_table)\n",
    "# Print the results\n",
    "print(\"Chi-Squared Test Results:\") \n",
    "print(\"Chi2: \",chi2) \n",
    "print(\"p-value: \",p) \n",
    "print(\"Degree of Freedom \",dof) \n",
    "print(\"Expected Frequencies: \\n\", exp) "
   ]
  },
  {
   "cell_type": "markdown",
   "id": "85de3f80",
   "metadata": {},
   "source": [
    "The above chi-sqaured test gave a p-value of 1.1973570627755645e-58(1.1973570627755645 * 10^-58) which is far less than 0.05 confidence interval. So we reject Null hypothes and accept alternate hypothesis meaning there is significant difference between the gender and survived column."
   ]
  },
  {
   "cell_type": "markdown",
   "id": "d79cd7df",
   "metadata": {},
   "source": [
    "# Normality Test / Normal(Gaussian) Distribution test"
   ]
  },
  {
   "cell_type": "code",
   "execution_count": 5,
   "id": "3d7f68fe",
   "metadata": {},
   "outputs": [
    {
     "data": {
      "text/plain": [
       "<Axes: xlabel='age', ylabel='Count'>"
      ]
     },
     "execution_count": 5,
     "metadata": {},
     "output_type": "execute_result"
    },
    {
     "data": {
      "image/png": "[encoded data removed]",
      "text/plain": [
       "<Figure size 640x480 with 1 Axes>"
      ]
     },
     "metadata": {},
     "output_type": "display_data"
    }
   ],
   "source": [
    "# graphical method\n",
    "sb.histplot(df,x='age',kde=True)"
   ]
  },
  {
   "cell_type": "markdown",
   "id": "da36a90e",
   "metadata": {},
   "source": [
    "The data is close to normal but not completely normal because we can see a little uneven surface on the right of the curve so we need to visualize the data more deeply"
   ]
  },
  {
   "cell_type": "code",
   "execution_count": 6,
   "id": "61eaa582",
   "metadata": {},
   "outputs": [
    {
     "data": {
      "text/plain": [
       "<Axes: xlabel='age', ylabel='Count'>"
      ]
     },
     "execution_count": 6,
     "metadata": {},
     "output_type": "execute_result"
    },
    {
     "data": {
      "image/png": "[encoded data removed]",
      "text/plain": [
       "<Figure size 640x480 with 1 Axes>"
      ]
     },
     "metadata": {},
     "output_type": "display_data"
    }
   ],
   "source": [
    "# For more indepth visualization\n",
    "sb.histplot(df,x='age',kde=True,hue='who')"
   ]
  },
  {
   "cell_type": "markdown",
   "id": "529a7656",
   "metadata": {},
   "source": [
    "We are still not able to analyze the normality of the distribution so we will move onto shapiro wilk Test<br>\n",
    "Null hypotheses : The data is normally distributed.<br>\n",
    "Alternative Hypothesis: The data is not normally distributed."
   ]
  },
  {
   "cell_type": "code",
   "execution_count": 7,
   "id": "9a75d82b",
   "metadata": {},
   "outputs": [
    {
     "name": "stdout",
     "output_type": "stream",
     "text": [
      "The age distribution is normal (p >= 0.05) null hypothesis accepted.\n"
     ]
    }
   ],
   "source": [
    "# shapiro wilk test for normality\n",
    "st,p=stats.shapiro(df['age'])\n",
    "if p < 0.05:\n",
    "    print(\"The age distribution is not normal (p < 0.05) null hypothesis rejected.\") \n",
    "else:\n",
    "    print(\"The age distribution is normal (p >= 0.05) null hypothesis accepted.\") "
   ]
  },
  {
   "cell_type": "markdown",
   "id": "551bed86",
   "metadata": {},
   "source": [
    "Kolmogorov-Smirnov Test(less reliable than shapiro wilk test for normality check)<br>\n",
    "Null hypotheses : The data is normally distributed.<br>\n",
    "Alternative Hypothesis: The data is not normally distributed."
   ]
  },
  {
   "cell_type": "code",
   "execution_count": 8,
   "id": "f3a84112",
   "metadata": {},
   "outputs": [
    {
     "name": "stdout",
     "output_type": "stream",
     "text": [
      "The age distribution is normal (p >= 0.05) null hypothesis accepted.\n"
     ]
    }
   ],
   "source": [
    "from scipy.stats import kstest\n",
    "# Kolmogorov-Smirnov test for normality\n",
    "st,p = kstest(df['age'],'norm') \n",
    "if p < 0.05:\n",
    "    print(\"The age distribution is not normal (p < 0.05) null hypothesis rejected.\")\n",
    "else:\n",
    "    print(\"The age distribution is normal (p >= 0.05) null hypothesis accepted.\")"
   ]
  },
  {
   "cell_type": "markdown",
   "id": "91a00b93",
   "metadata": {},
   "source": [
    "# t-test (Applied when sample size is less than 30)"
   ]
  },
  {
   "cell_type": "markdown",
   "id": "978d67bf",
   "metadata": {},
   "source": [
    "One-sample t-test : Compares sample mean of one feature with the population mean(assumed in this case)"
   ]
  },
  {
   "cell_type": "code",
   "execution_count": 1,
   "id": "f2595652",
   "metadata": {},
   "outputs": [
    {
     "name": "stdout",
     "output_type": "stream",
     "text": [
      "p-value: 0.614117254808394 The sample mean is not significantly different from the population mean (p >= 0.05) null hypothesis accepted.\n"
     ]
    }
   ],
   "source": [
    "from scipy import stats\n",
    "# sample data \n",
    "x = [1,2,3,4,5,6,7,8,9,10] \n",
    "# assume known population mean \n",
    "mu = 5 \n",
    "# perform one-sample t-test \n",
    "st,p = stats.ttest_1samp(x,mu) \n",
    "#print the results \n",
    "if p < 0.05:\n",
    "    print(f\"p-value: {p} The sample mean is significantly different from the population mean (p < 0.05) null hypothesis rejected.\")\n",
    "else:\n",
    "    print(f\"p-value: {p} The sample mean is not significantly different from the population mean (p >= 0.05) null hypothesis accepted.\")"
   ]
  },
  {
   "cell_type": "markdown",
   "id": "c192cfa2",
   "metadata": {},
   "source": [
    "Two-sample t-test : Compares one sample mean with another sample mean trying to point out the similarity or difference between two features of the dataset."
   ]
  },
  {
   "cell_type": "code",
   "execution_count": 13,
   "id": "5b4111d4",
   "metadata": {},
   "outputs": [
    {
     "name": "stdout",
     "output_type": "stream",
     "text": [
      "p-value: 0.1551262259583198 The two sample means are not significantly different (p >= 0.05) null hypothesis accepted.\n"
     ]
    }
   ],
   "source": [
    "# sample data\n",
    "x = [1,2,3,4,5,6,7,8,9,10] \n",
    "y = [2.1,3,5,6.7,7.8,8.9,9.1,10.2,11.3,12.4] \n",
    "# perform two-sample t-test \n",
    "st,p = stats.ttest_ind(x,y)\n",
    "#print the results\n",
    "if p < 0.05:\n",
    "    print(f\"p-value: {p} The two sample means are significantly different (p < 0.05) null hypothesis rejected.\")\n",
    "else:\n",
    "    print(f\"p-value: {p} The two sample means are not significantly different (p >= 0.05) null hypothesis accepted.\")"
   ]
  },
  {
   "cell_type": "markdown",
   "id": "0d59d9eb",
   "metadata": {},
   "source": [
    "Paired t-test : Compares the same sample twice recorded in different time frames"
   ]
  },
  {
   "cell_type": "code",
   "execution_count": 15,
   "id": "fe5d292c",
   "metadata": {},
   "outputs": [
    {
     "name": "stdout",
     "output_type": "stream",
     "text": [
      "p-value: 2.519695604342732e-06 The two paired samples are significantly different (p < 0.05) null hypothesis rejected.\n"
     ]
    }
   ],
   "source": [
    "# sample data \n",
    "x = [1,2,3,4,5,6,7,8,9,10]\n",
    "y = [2.1,3,5,6.7,7.8,8.9,9.1,10.2,11.3,12.4] \n",
    "# perform paired t-test \n",
    "st,p = stats.ttest_rel(x,y) # if want to check using variance then use stats.ttest_ind(x,y, equal_var=False)\n",
    "#print the results \n",
    "if p < 0.05:\n",
    "    print(f\"p-value: {p} The two paired samples are significantly different (p < 0.05) null hypothesis rejected.\")\n",
    "else:\n",
    "    print(f\"p-value: {p} The two paired samples are not significantly different (p >= 0.05) null hypothesis accepted.\")"
   ]
  },
  {
   "cell_type": "markdown",
   "id": "d2aba16f",
   "metadata": {},
   "source": [
    "# ANOVA : ANALYSIS OF VARIANCE"
   ]
  },
  {
   "cell_type": "markdown",
   "id": "0471dd90",
   "metadata": {},
   "source": [
    "1. One way Anova"
   ]
  },
  {
   "cell_type": "code",
   "execution_count": null,
   "id": "e787ab88",
   "metadata": {},
   "outputs": [
    {
     "name": "stdout",
     "output_type": "stream",
     "text": [
      "p-value: 0.0795168012694981 All sample means are not significantly different (p >= 0.05) null hypothesis accepted.\n"
     ]
    }
   ],
   "source": [
    "# Sample data for one-way ANOVA : height of 10 people in three different groups\n",
    "group1 = [4.3,5.2,6.3,5.7,5.9,6.2,5.6,4.1,4.9,5.5] \n",
    "group2 = [4.1,5,6,5.6,5.8,6.1,5.5,4,4.8,5.4]\n",
    "group3 = [4.9,5.8,6.9,6.3,6.5,6.8,6.2,4.7,5.5,6.1]\n",
    "# perform one-way ANOVA \n",
    "f,p = stats.f_oneway(group1, group2, group3)\n",
    "# print the results \n",
    "if p < 0.05:\n",
    "    print(f\"p-value: {p} At least one of the sample means is significantly different (p < 0.05) null hypothesis rejected.\")\n",
    "else:\n",
    "    print(f\"p-value: {p} All sample means are not significantly different (p >= 0.05) null hypothesis accepted.\")"
   ]
  },
  {
   "cell_type": "code",
   "execution_count": 23,
   "id": "808f6c7f",
   "metadata": {},
   "outputs": [],
   "source": [
    "# One way ANOVA using statsmodels \n",
    "# import necessary libraries \n",
    "import statsmodels.api as sm \n",
    "from statsmodels.formula.api import ols\n",
    "import pandas as pd"
   ]
  },
  {
   "cell_type": "code",
   "execution_count": 6,
   "id": "55882fca",
   "metadata": {},
   "outputs": [
    {
     "data": {
      "text/html": [
       "<div>\n",
       "<style scoped>\n",
       "    .dataframe tbody tr th:only-of-type {\n",
       "        vertical-align: middle;\n",
       "    }\n",
       "\n",
       "    .dataframe tbody tr th {\n",
       "        vertical-align: top;\n",
       "    }\n",
       "\n",
       "    .dataframe thead th {\n",
       "        text-align: right;\n",
       "    }\n",
       "</style>\n",
       "<table border=\"1\" class=\"dataframe\">\n",
       "  <thead>\n",
       "    <tr style=\"text-align: right;\">\n",
       "      <th></th>\n",
       "      <th>fertilizer</th>\n",
       "      <th>growth</th>\n",
       "    </tr>\n",
       "  </thead>\n",
       "  <tbody>\n",
       "    <tr>\n",
       "      <th>0</th>\n",
       "      <td>A</td>\n",
       "      <td>20</td>\n",
       "    </tr>\n",
       "    <tr>\n",
       "      <th>1</th>\n",
       "      <td>A</td>\n",
       "      <td>21</td>\n",
       "    </tr>\n",
       "    <tr>\n",
       "      <th>2</th>\n",
       "      <td>A</td>\n",
       "      <td>19</td>\n",
       "    </tr>\n",
       "    <tr>\n",
       "      <th>3</th>\n",
       "      <td>A</td>\n",
       "      <td>22</td>\n",
       "    </tr>\n",
       "    <tr>\n",
       "      <th>4</th>\n",
       "      <td>A</td>\n",
       "      <td>20</td>\n",
       "    </tr>\n",
       "  </tbody>\n",
       "</table>\n",
       "</div>"
      ],
      "text/plain": [
       "  fertilizer  growth\n",
       "0          A      20\n",
       "1          A      21\n",
       "2          A      19\n",
       "3          A      22\n",
       "4          A      20"
      ]
     },
     "execution_count": 6,
     "metadata": {},
     "output_type": "execute_result"
    }
   ],
   "source": [
    "# Create a DataFrame with the sample data \n",
    "data = {\n",
    "    'fertilizer': ['A']*5 + ['B']*5 + ['C']*5,\n",
    "    'growth': [20, 21, 19, 22, 20,   # Fertilizer A\n",
    "               23, 25, 24, 22, 26,   # Fertilizer B\n",
    "               18, 17, 19, 16, 18]   # Fertilizer C\n",
    "}\n",
    "df = pd.DataFrame(data)\n",
    "df.head()"
   ]
  },
  {
   "cell_type": "code",
   "execution_count": 13,
   "id": "6e1a4acd",
   "metadata": {},
   "outputs": [],
   "source": [
    "# Fit the model \n",
    "model = ols('growth ~ fertilizer', data=df).fit()  "
   ]
  },
  {
   "cell_type": "code",
   "execution_count": 14,
   "id": "2694cf0a",
   "metadata": {},
   "outputs": [
    {
     "data": {
      "text/html": [
       "<div>\n",
       "<style scoped>\n",
       "    .dataframe tbody tr th:only-of-type {\n",
       "        vertical-align: middle;\n",
       "    }\n",
       "\n",
       "    .dataframe tbody tr th {\n",
       "        vertical-align: top;\n",
       "    }\n",
       "\n",
       "    .dataframe thead th {\n",
       "        text-align: right;\n",
       "    }\n",
       "</style>\n",
       "<table border=\"1\" class=\"dataframe\">\n",
       "  <thead>\n",
       "    <tr style=\"text-align: right;\">\n",
       "      <th></th>\n",
       "      <th>sum_sq</th>\n",
       "      <th>df</th>\n",
       "      <th>F</th>\n",
       "      <th>PR(&gt;F)</th>\n",
       "    </tr>\n",
       "  </thead>\n",
       "  <tbody>\n",
       "    <tr>\n",
       "      <th>fertilizer</th>\n",
       "      <td>102.933333</td>\n",
       "      <td>2.0</td>\n",
       "      <td>30.27451</td>\n",
       "      <td>0.00002</td>\n",
       "    </tr>\n",
       "    <tr>\n",
       "      <th>Residual</th>\n",
       "      <td>20.400000</td>\n",
       "      <td>12.0</td>\n",
       "      <td>NaN</td>\n",
       "      <td>NaN</td>\n",
       "    </tr>\n",
       "  </tbody>\n",
       "</table>\n",
       "</div>"
      ],
      "text/plain": [
       "                sum_sq    df         F   PR(>F)\n",
       "fertilizer  102.933333   2.0  30.27451  0.00002\n",
       "Residual     20.400000  12.0       NaN      NaN"
      ]
     },
     "execution_count": 14,
     "metadata": {},
     "output_type": "execute_result"
    }
   ],
   "source": [
    "# Perform ANOVA and print the summary table \n",
    "anova_table = sm.stats.anova_lm(model, typ=2) \n",
    "anova_table"
   ]
  },
  {
   "cell_type": "code",
   "execution_count": 15,
   "id": "a69651fd",
   "metadata": {},
   "outputs": [
    {
     "name": "stdout",
     "output_type": "stream",
     "text": [
      "p-value: 2.0478502169551086e-05 At least one of the sample means is significantly different (p < 0.05) null hypothesis rejected.\n"
     ]
    }
   ],
   "source": [
    "# End result \n",
    "if anova_table['PR(>F)'].iloc[0] < 0.05:\n",
    "    print(f\"p-value: {anova_table['PR(>F)'].iloc[0]} At least one of the sample means is significantly different (p < 0.05) null hypothesis rejected.\")\n",
    "else:\n",
    "    print(f\"p-value: {anova_table['PR(>F)'].iloc[0]} All sample means are not significantly different (p >= 0.05) null hypothesis accepted.\")"
   ]
  },
  {
   "cell_type": "markdown",
   "id": "1d7979ab",
   "metadata": {},
   "source": [
    "2. Two-way ANOVA"
   ]
  },
  {
   "cell_type": "code",
   "execution_count": 8,
   "id": "b117d6b3",
   "metadata": {},
   "outputs": [
    {
     "data": {
      "text/html": [
       "<div>\n",
       "<style scoped>\n",
       "    .dataframe tbody tr th:only-of-type {\n",
       "        vertical-align: middle;\n",
       "    }\n",
       "\n",
       "    .dataframe tbody tr th {\n",
       "        vertical-align: top;\n",
       "    }\n",
       "\n",
       "    .dataframe thead th {\n",
       "        text-align: right;\n",
       "    }\n",
       "</style>\n",
       "<table border=\"1\" class=\"dataframe\">\n",
       "  <thead>\n",
       "    <tr style=\"text-align: right;\">\n",
       "      <th></th>\n",
       "      <th>fertilizer</th>\n",
       "      <th>water</th>\n",
       "      <th>growth</th>\n",
       "    </tr>\n",
       "  </thead>\n",
       "  <tbody>\n",
       "    <tr>\n",
       "      <th>0</th>\n",
       "      <td>A</td>\n",
       "      <td>Low</td>\n",
       "      <td>18</td>\n",
       "    </tr>\n",
       "    <tr>\n",
       "      <th>1</th>\n",
       "      <td>A</td>\n",
       "      <td>Low</td>\n",
       "      <td>19</td>\n",
       "    </tr>\n",
       "    <tr>\n",
       "      <th>2</th>\n",
       "      <td>A</td>\n",
       "      <td>Low</td>\n",
       "      <td>20</td>\n",
       "    </tr>\n",
       "    <tr>\n",
       "      <th>3</th>\n",
       "      <td>A</td>\n",
       "      <td>Medium</td>\n",
       "      <td>21</td>\n",
       "    </tr>\n",
       "    <tr>\n",
       "      <th>4</th>\n",
       "      <td>A</td>\n",
       "      <td>Medium</td>\n",
       "      <td>22</td>\n",
       "    </tr>\n",
       "  </tbody>\n",
       "</table>\n",
       "</div>"
      ],
      "text/plain": [
       "  fertilizer   water  growth\n",
       "0          A     Low      18\n",
       "1          A     Low      19\n",
       "2          A     Low      20\n",
       "3          A  Medium      21\n",
       "4          A  Medium      22"
      ]
     },
     "execution_count": 8,
     "metadata": {},
     "output_type": "execute_result"
    }
   ],
   "source": [
    "data = {\n",
    "    'fertilizer': ['A']*9 + ['B']*9 + ['C']*9,\n",
    "    'water': (['Low']*3 + ['Medium']*3 + ['High']*3)*3,\n",
    "    'growth': [\n",
    "        18, 19, 20, 21, 22, 21, 23, 24, 22,   # Fertilizer A: Low/Medium/High\n",
    "        21, 22, 23, 24, 25, 24, 26, 27, 25,   # Fertilizer B: Low/Medium/High\n",
    "        16, 17, 18, 18, 19, 18, 20, 21, 19    # Fertilizer C: Low/Medium/High\n",
    "    ]\n",
    "}\n",
    "df = pd.DataFrame(data) \n",
    "df.head()"
   ]
  },
  {
   "cell_type": "code",
   "execution_count": 15,
   "id": "4a309a62",
   "metadata": {},
   "outputs": [],
   "source": [
    "# Fit the model \n",
    "model = ols('growth ~ C(water) * C(fertilizer)',data=df).fit()"
   ]
  },
  {
   "cell_type": "code",
   "execution_count": 12,
   "id": "1911ff12",
   "metadata": {},
   "outputs": [
    {
     "data": {
      "text/html": [
       "<div>\n",
       "<style scoped>\n",
       "    .dataframe tbody tr th:only-of-type {\n",
       "        vertical-align: middle;\n",
       "    }\n",
       "\n",
       "    .dataframe tbody tr th {\n",
       "        vertical-align: top;\n",
       "    }\n",
       "\n",
       "    .dataframe thead th {\n",
       "        text-align: right;\n",
       "    }\n",
       "</style>\n",
       "<table border=\"1\" class=\"dataframe\">\n",
       "  <thead>\n",
       "    <tr style=\"text-align: right;\">\n",
       "      <th></th>\n",
       "      <th>sum_sq</th>\n",
       "      <th>df</th>\n",
       "      <th>F</th>\n",
       "      <th>PR(&gt;F)</th>\n",
       "    </tr>\n",
       "  </thead>\n",
       "  <tbody>\n",
       "    <tr>\n",
       "      <th>C(water)</th>\n",
       "      <td>60.666667</td>\n",
       "      <td>2.0</td>\n",
       "      <td>39.000000</td>\n",
       "      <td>2.864253e-07</td>\n",
       "    </tr>\n",
       "    <tr>\n",
       "      <th>C(fertilizer)</th>\n",
       "      <td>144.666667</td>\n",
       "      <td>2.0</td>\n",
       "      <td>93.000000</td>\n",
       "      <td>3.241761e-10</td>\n",
       "    </tr>\n",
       "    <tr>\n",
       "      <th>C(water):C(fertilizer)</th>\n",
       "      <td>1.333333</td>\n",
       "      <td>4.0</td>\n",
       "      <td>0.428571</td>\n",
       "      <td>7.861024e-01</td>\n",
       "    </tr>\n",
       "    <tr>\n",
       "      <th>Residual</th>\n",
       "      <td>14.000000</td>\n",
       "      <td>18.0</td>\n",
       "      <td>NaN</td>\n",
       "      <td>NaN</td>\n",
       "    </tr>\n",
       "  </tbody>\n",
       "</table>\n",
       "</div>"
      ],
      "text/plain": [
       "                            sum_sq    df          F        PR(>F)\n",
       "C(water)                 60.666667   2.0  39.000000  2.864253e-07\n",
       "C(fertilizer)           144.666667   2.0  93.000000  3.241761e-10\n",
       "C(water):C(fertilizer)    1.333333   4.0   0.428571  7.861024e-01\n",
       "Residual                 14.000000  18.0        NaN           NaN"
      ]
     },
     "execution_count": 12,
     "metadata": {},
     "output_type": "execute_result"
    }
   ],
   "source": [
    "# Perform ANOVA and print the summary table \n",
    "anova_table = sm.stats.anova_lm(model, typ=2) \n",
    "anova_table"
   ]
  },
  {
   "cell_type": "code",
   "execution_count": 13,
   "id": "c1430716",
   "metadata": {},
   "outputs": [
    {
     "name": "stdout",
     "output_type": "stream",
     "text": [
      "p-value: 0.7861024487886747 All sample means are not significantly different (p >= 0.05) null hypothesis accepted.\n"
     ]
    }
   ],
   "source": [
    "# End result \n",
    "if anova_table['PR(>F)'].iloc[2] < 0.05:\n",
    "    print(f\"p-value: {anova_table['PR(>F)'].iloc[2]} At least one of the sample means is significantly different (p < 0.05) null hypothesis rejected.\")\n",
    "else:\n",
    "    print(f\"p-value: {anova_table['PR(>F)'].iloc[2]} All sample means are not significantly different (p >= 0.05) null hypothesis accepted.\")"
   ]
  },
  {
   "cell_type": "markdown",
   "id": "8c7436a3",
   "metadata": {},
   "source": [
    "3. Three-way ANOVA"
   ]
  },
  {
   "cell_type": "code",
   "execution_count": null,
   "id": "fd5f8a6c",
   "metadata": {},
   "outputs": [],
   "source": [
    "import itertools\n",
    "fertilizer_levels = ['A', 'B', 'C']\n",
    "water_levels = ['Low', 'Medium', 'High']\n",
    "sunlight_levels = ['Low', 'Medium', 'High']\n",
    "\n",
    "combinations = list(itertools.product(fertilizer_levels, water_levels, sunlight_levels))\n",
    "\n",
    "growth_values = [\n",
    "    18, 19, 20, 21, 22, 21, 23, 24, 22,   # Fertilizer A\n",
    "    21, 22, 23, 24, 25, 24, 26, 27, 25,   # Fertilizer B\n",
    "    16, 17, 18, 18, 19, 18, 20, 21, 19    # Fertilizer C\n",
    "] * 3  \n",
    "\n",
    "data = {\n",
    "    'fertilizer': [c[0] for c in combinations] * 3,  \n",
    "    'water': [c[1] for c in combinations] * 3,\n",
    "    'sunlight': [c[2] for c in combinations] * 3,\n",
    "    'growth': growth_values[:len(combinations) * 3]\n",
    "}\n",
    "df_anova = pd.DataFrame(data)\n",
    "\n",
    "# Convert to categorical\n",
    "df_anova['fertilizer'] = df_anova['fertilizer'].astype('category')\n",
    "df_anova['water'] = df_anova['water'].astype('category')\n",
    "df_anova['sunlight'] = df_anova['sunlight'].astype('category')\n"
   ]
  },
  {
   "cell_type": "code",
   "execution_count": 44,
   "id": "7c5275c9",
   "metadata": {},
   "outputs": [],
   "source": [
    "# Fit the model\n",
    "model = ols('growth ~ C(water) * C(fertilizer) * C(sunlight)', data=df_anova).fit()"
   ]
  },
  {
   "cell_type": "code",
   "execution_count": 45,
   "id": "765c89fa",
   "metadata": {},
   "outputs": [
    {
     "data": {
      "text/html": [
       "<div>\n",
       "<style scoped>\n",
       "    .dataframe tbody tr th:only-of-type {\n",
       "        vertical-align: middle;\n",
       "    }\n",
       "\n",
       "    .dataframe tbody tr th {\n",
       "        vertical-align: top;\n",
       "    }\n",
       "\n",
       "    .dataframe thead th {\n",
       "        text-align: right;\n",
       "    }\n",
       "</style>\n",
       "<table border=\"1\" class=\"dataframe\">\n",
       "  <thead>\n",
       "    <tr style=\"text-align: right;\">\n",
       "      <th></th>\n",
       "      <th>sum_sq</th>\n",
       "      <th>df</th>\n",
       "      <th>F</th>\n",
       "      <th>PR(&gt;F)</th>\n",
       "    </tr>\n",
       "  </thead>\n",
       "  <tbody>\n",
       "    <tr>\n",
       "      <th>C(water)</th>\n",
       "      <td>1.820000e+02</td>\n",
       "      <td>2.0</td>\n",
       "      <td>1.889021e+28</td>\n",
       "      <td>0.000000</td>\n",
       "    </tr>\n",
       "    <tr>\n",
       "      <th>C(fertilizer)</th>\n",
       "      <td>4.340000e+02</td>\n",
       "      <td>2.0</td>\n",
       "      <td>4.504588e+28</td>\n",
       "      <td>0.000000</td>\n",
       "    </tr>\n",
       "    <tr>\n",
       "      <th>C(sunlight)</th>\n",
       "      <td>1.400000e+01</td>\n",
       "      <td>2.0</td>\n",
       "      <td>1.453093e+27</td>\n",
       "      <td>0.000000</td>\n",
       "    </tr>\n",
       "    <tr>\n",
       "      <th>C(water):C(fertilizer)</th>\n",
       "      <td>4.000000e+00</td>\n",
       "      <td>4.0</td>\n",
       "      <td>2.075847e+26</td>\n",
       "      <td>0.000000</td>\n",
       "    </tr>\n",
       "    <tr>\n",
       "      <th>C(water):C(sunlight)</th>\n",
       "      <td>2.800000e+01</td>\n",
       "      <td>4.0</td>\n",
       "      <td>1.453093e+27</td>\n",
       "      <td>0.000000</td>\n",
       "    </tr>\n",
       "    <tr>\n",
       "      <th>C(fertilizer):C(sunlight)</th>\n",
       "      <td>1.846710e-27</td>\n",
       "      <td>4.0</td>\n",
       "      <td>9.583720e-02</td>\n",
       "      <td>0.983368</td>\n",
       "    </tr>\n",
       "    <tr>\n",
       "      <th>C(water):C(fertilizer):C(sunlight)</th>\n",
       "      <td>8.066867e-28</td>\n",
       "      <td>8.0</td>\n",
       "      <td>2.093198e-02</td>\n",
       "      <td>0.999998</td>\n",
       "    </tr>\n",
       "    <tr>\n",
       "      <th>Residual</th>\n",
       "      <td>2.601348e-25</td>\n",
       "      <td>54.0</td>\n",
       "      <td>NaN</td>\n",
       "      <td>NaN</td>\n",
       "    </tr>\n",
       "  </tbody>\n",
       "</table>\n",
       "</div>"
      ],
      "text/plain": [
       "                                          sum_sq    df             F    PR(>F)\n",
       "C(water)                            1.820000e+02   2.0  1.889021e+28  0.000000\n",
       "C(fertilizer)                       4.340000e+02   2.0  4.504588e+28  0.000000\n",
       "C(sunlight)                         1.400000e+01   2.0  1.453093e+27  0.000000\n",
       "C(water):C(fertilizer)              4.000000e+00   4.0  2.075847e+26  0.000000\n",
       "C(water):C(sunlight)                2.800000e+01   4.0  1.453093e+27  0.000000\n",
       "C(fertilizer):C(sunlight)           1.846710e-27   4.0  9.583720e-02  0.983368\n",
       "C(water):C(fertilizer):C(sunlight)  8.066867e-28   8.0  2.093198e-02  0.999998\n",
       "Residual                            2.601348e-25  54.0           NaN       NaN"
      ]
     },
     "execution_count": 45,
     "metadata": {},
     "output_type": "execute_result"
    }
   ],
   "source": [
    "# Perform ANOVA and print the summary table \n",
    "anova_table = sm.stats.anova_lm(model, typ=2) \n",
    "anova_table"
   ]
  },
  {
   "cell_type": "code",
   "execution_count": 46,
   "id": "a101664a",
   "metadata": {},
   "outputs": [
    {
     "name": "stdout",
     "output_type": "stream",
     "text": [
      "p-value: 0.9999976527860471 All sample means are not significantly different (p >= 0.05) null hypothesis accepted.\n"
     ]
    }
   ],
   "source": [
    "# End result \n",
    "if anova_table['PR(>F)'].iloc[-2] < 0.05:\n",
    "    print(f\"p-value: {anova_table['PR(>F)'].iloc[-2]} At least one of the sample means is significantly different (p < 0.05) null hypothesis rejected.\")\n",
    "else:\n",
    "    print(f\"p-value: {anova_table['PR(>F)'].iloc[-2]} All sample means are not significantly different (p >= 0.05) null hypothesis accepted.\")"
   ]
  }
 ],
 "metadata": {
  "kernelspec": {
   "display_name": "Python 3",
   "language": "python",
   "name": "python3"
  },
  "language_info": {
   "codemirror_mode": {
    "name": "ipython",
    "version": 3
   },
   "file_extension": ".py",
   "mimetype": "text/x-python",
   "name": "python",
   "nbconvert_exporter": "python",
   "pygments_lexer": "ipython3",
   "version": "3.13.2"
  }
 },
 "nbformat": 4,
 "nbformat_minor": 5
}
