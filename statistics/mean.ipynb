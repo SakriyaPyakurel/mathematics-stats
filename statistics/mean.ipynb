{
 "cells": [
  {
   "cell_type": "code",
   "execution_count": null,
   "id": "c707731d",
   "metadata": {},
   "outputs": [],
   "source": [
    "# Define a dataset of numbers \n",
    "numbers = [10,20,30,40,50,60,70,80,90,100] \n",
    "numbers"
   ]
  },
  {
   "cell_type": "code",
   "execution_count": null,
   "id": "946d691a",
   "metadata": {},
   "outputs": [],
   "source": [
    "# Arithmetric mean calculation \n",
    "import statistics\n",
    "mean = statistics.mean(numbers) \n",
    "mean"
   ]
  },
  {
   "cell_type": "code",
   "execution_count": null,
   "id": "b27ad41b",
   "metadata": {},
   "outputs": [],
   "source": [
    "# Geometric mean calculation\n",
    "import scipy.stats as stats\n",
    "gmean = stats.gmean(numbers) \n",
    "float(gmean)"
   ]
  },
  {
   "cell_type": "code",
   "execution_count": 7,
   "id": "784a8679",
   "metadata": {},
   "outputs": [
    {
     "data": {
      "text/plain": [
       "34.14171521474054"
      ]
     },
     "execution_count": 7,
     "metadata": {},
     "output_type": "execute_result"
    }
   ],
   "source": [
    "# Harmonic mean calculation \n",
    "hmean = stats.hmean(numbers) \n",
    "float(hmean)"
   ]
  },
  {
   "cell_type": "code",
   "execution_count": null,
   "id": "1ae57d28",
   "metadata": {},
   "outputs": [],
   "source": [
    "# Weighted mean calculation \n",
    "data = [10,20,30,40,50] \n",
    "weights = [0.1,0.3,0.2,0.1,0.3] \n",
    "weighted_mean = sum(d*w for d,w in zip(data,weights))/sum(weights) \n",
    "weighted_mean"
   ]
  },
  {
   "cell_type": "code",
   "execution_count": null,
   "id": "ed25566c",
   "metadata": {},
   "outputs": [],
   "source": [
    "# Truncated(Trimmed) mean calculation \n",
    "trimmed_mean = stats.trim_mean(numbers,proportiontocut=0.1) # 10% of data will be trimmed from both ends \n",
    "float(trimmed_mean)"
   ]
  },
  {
   "cell_type": "markdown",
   "id": "691331af",
   "metadata": {},
   "source": [
    "Mean is extremely outlier sensitive. That means addition of new data can greatly affect the mean\n",
    "we will see through it with an example"
   ]
  },
  {
   "cell_type": "code",
   "execution_count": null,
   "id": "1ab75dd5",
   "metadata": {},
   "outputs": [],
   "source": [
    "numbers[-1] # Checking the maximum value in the dataset"
   ]
  },
  {
   "cell_type": "code",
   "execution_count": null,
   "id": "f15f845f",
   "metadata": {},
   "outputs": [],
   "source": [
    "numbers.append(120) # Adding a new number to the dataset \n",
    "new_mean = statistics.mean(numbers) # Calculating the new mean after adding the number\n",
    "new_mean"
   ]
  },
  {
   "cell_type": "markdown",
   "id": "15c65de6",
   "metadata": {},
   "source": [
    "We can observe that the mean value is shifted from 55 to 60.90909090909091(almost 61) after addition of new number into the dataset"
   ]
  }
 ],
 "metadata": {
  "kernelspec": {
   "display_name": "Python 3",
   "language": "python",
   "name": "python3"
  },
  "language_info": {
   "codemirror_mode": {
    "name": "ipython",
    "version": 3
   },
   "file_extension": ".py",
   "mimetype": "text/x-python",
   "name": "python",
   "nbconvert_exporter": "python",
   "pygments_lexer": "ipython3",
   "version": "3.13.2"
  }
 },
 "nbformat": 4,
 "nbformat_minor": 5
}
