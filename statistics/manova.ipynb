{
 "cells": [
  {
   "cell_type": "markdown",
   "id": "f74ed7cd",
   "metadata": {},
   "source": [
    "## Manova"
   ]
  },
  {
   "cell_type": "markdown",
   "id": "8b7db199",
   "metadata": {},
   "source": [
    "An extension of anova where two or more than two dependent variables are involved. Banova is one of the most prominent and basic type of manova where exactly two dependent variables are present in the dataset to be stastiscally evaluated."
   ]
  },
  {
   "cell_type": "code",
   "execution_count": 2,
   "id": "1f5101a1",
   "metadata": {},
   "outputs": [],
   "source": [
    "# Import necessary libraries\n",
    "import pandas as pd \n",
    "import statsmodels.api as sm \n",
    "from statsmodels.multivariate.manova import MANOVA"
   ]
  },
  {
   "cell_type": "code",
   "execution_count": 3,
   "id": "25089e2b",
   "metadata": {},
   "outputs": [
    {
     "data": {
      "text/html": [
       "<div>\n",
       "<style scoped>\n",
       "    .dataframe tbody tr th:only-of-type {\n",
       "        vertical-align: middle;\n",
       "    }\n",
       "\n",
       "    .dataframe tbody tr th {\n",
       "        vertical-align: top;\n",
       "    }\n",
       "\n",
       "    .dataframe thead th {\n",
       "        text-align: right;\n",
       "    }\n",
       "</style>\n",
       "<table border=\"1\" class=\"dataframe\">\n",
       "  <thead>\n",
       "    <tr style=\"text-align: right;\">\n",
       "      <th></th>\n",
       "      <th>education_level</th>\n",
       "      <th>civic_sense</th>\n",
       "      <th>helpfulness</th>\n",
       "    </tr>\n",
       "  </thead>\n",
       "  <tbody>\n",
       "    <tr>\n",
       "      <th>0</th>\n",
       "      <td>A</td>\n",
       "      <td>5</td>\n",
       "      <td>2</td>\n",
       "    </tr>\n",
       "    <tr>\n",
       "      <th>1</th>\n",
       "      <td>A</td>\n",
       "      <td>3</td>\n",
       "      <td>3</td>\n",
       "    </tr>\n",
       "    <tr>\n",
       "      <th>2</th>\n",
       "      <td>B</td>\n",
       "      <td>4</td>\n",
       "      <td>4</td>\n",
       "    </tr>\n",
       "    <tr>\n",
       "      <th>3</th>\n",
       "      <td>B</td>\n",
       "      <td>2</td>\n",
       "      <td>5</td>\n",
       "    </tr>\n",
       "    <tr>\n",
       "      <th>4</th>\n",
       "      <td>C</td>\n",
       "      <td>3</td>\n",
       "      <td>6</td>\n",
       "    </tr>\n",
       "    <tr>\n",
       "      <th>5</th>\n",
       "      <td>C</td>\n",
       "      <td>1</td>\n",
       "      <td>7</td>\n",
       "    </tr>\n",
       "  </tbody>\n",
       "</table>\n",
       "</div>"
      ],
      "text/plain": [
       "  education_level  civic_sense  helpfulness\n",
       "0               A            5            2\n",
       "1               A            3            3\n",
       "2               B            4            4\n",
       "3               B            2            5\n",
       "4               C            3            6\n",
       "5               C            1            7"
      ]
     },
     "execution_count": 3,
     "metadata": {},
     "output_type": "execute_result"
    }
   ],
   "source": [
    "# Example dataset creation and demonstration \n",
    "data = {\n",
    "    'education_level': ['A', 'A', 'B', 'B', 'C', 'C'],\n",
    "    'civic_sense': [5,3,4,2,3,1],\n",
    "    'helpfulness': [2, 3, 4, 5, 6, 7]\n",
    "}\n",
    "df = pd.DataFrame(data)\n",
    "df['education_level'] = df['education_level'].astype('category') \n",
    "df"
   ]
  },
  {
   "cell_type": "code",
   "execution_count": 4,
   "id": "0c8bd6df",
   "metadata": {},
   "outputs": [],
   "source": [
    "# perform MANOVA \n",
    "manova = MANOVA.from_formula('civic_sense + helpfulness ~ education_level', data=df) "
   ]
  },
  {
   "cell_type": "code",
   "execution_count": 6,
   "id": "085e58ee",
   "metadata": {},
   "outputs": [
    {
     "name": "stdout",
     "output_type": "stream",
     "text": [
      "                               Multivariate linear model\n",
      "========================================================================================\n",
      "                                                                                        \n",
      "----------------------------------------------------------------------------------------\n",
      "       Intercept                Value         Num DF Den DF        F Value        Pr > F\n",
      "----------------------------------------------------------------------------------------\n",
      "          Wilks' lambda               -0.0000 2.0000 2.0000 -214457125112881.7500 1.0000\n",
      "         Pillai's trace                1.0000 2.0000 2.0000 -214457125112881.7500 1.0000\n",
      " Hotelling-Lawley trace -214457125112881.7500 2.0000 1.0000 -107228562556440.8750 1.0000\n",
      "    Roy's greatest root -214457125112881.7500 2.0000 2.0000 -214457125112881.7500 1.0000\n",
      "----------------------------------------------------------------------------------------\n",
      "                                                                                        \n",
      "----------------------------------------------------------------------------------------\n",
      "      education_level            Value         Num DF Den DF       F Value        Pr > F\n",
      "----------------------------------------------------------------------------------------\n",
      "            Wilks' lambda              -0.0000 4.0000 4.0000                  nan    nan\n",
      "           Pillai's trace               1.0000 4.0000 6.0000               1.5000 0.3125\n",
      "   Hotelling-Lawley trace -46912496118443.6641 4.0000 2.0000 -11728124029610.9160 1.0000\n",
      "      Roy's greatest root -46912496118443.6641 2.0000 3.0000 -70368744177665.5000 1.0000\n",
      "========================================================================================\n",
      "\n"
     ]
    },
    {
     "name": "stderr",
     "output_type": "stream",
     "text": [
      "c:\\Users\\Sakriya Pyakurel\\AppData\\Local\\Programs\\Python\\Python313\\Lib\\site-packages\\statsmodels\\multivariate\\multivariate_ols.py:196: RuntimeWarning: invalid value encountered in power\n",
      "  lmd = np.power(lmd, 1 / t)\n"
     ]
    }
   ],
   "source": [
    "# Print the results \n",
    "print(manova.mv_test())"
   ]
  },
  {
   "cell_type": "markdown",
   "id": "025e4652",
   "metadata": {},
   "source": [
    "## Interpretations: \n",
    "\n",
    "i. The dataset is very small and packed together therefore it is difficult for the algorithm to evaluate accurate results from it.\n",
    "<br>\n",
    "ii. All the p-values of the methods are 1 that means there is no significant difference in the mean of each dependent variable in relation to the one independent variable.\n",
    "<br> \n",
    "Data collection can be increased to infer more accurate results with variety in the dataset."
   ]
  }
 ],
 "metadata": {
  "kernelspec": {
   "display_name": "Python 3",
   "language": "python",
   "name": "python3"
  },
  "language_info": {
   "codemirror_mode": {
    "name": "ipython",
    "version": 3
   },
   "file_extension": ".py",
   "mimetype": "text/x-python",
   "name": "python",
   "nbconvert_exporter": "python",
   "pygments_lexer": "ipython3",
   "version": "3.13.2"
  }
 },
 "nbformat": 4,
 "nbformat_minor": 5
}
