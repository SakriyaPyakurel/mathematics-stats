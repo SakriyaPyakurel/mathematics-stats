{
 "cells": [
  {
   "cell_type": "code",
   "execution_count": null,
   "id": "dc42a6e8",
   "metadata": {},
   "outputs": [],
   "source": [
    "# Calculation of median\n",
    "import pandas as pd \n",
    "df=pd.read_csv('Titanic-Dataset.csv') # loading the dataset\n",
    "df.head() # displaying the first 5 rows of the dataset"
   ]
  },
  {
   "cell_type": "code",
   "execution_count": null,
   "id": "5ed9bc27",
   "metadata": {},
   "outputs": [],
   "source": [
    "# calculating the median of the 'Age' column manually \n",
    "age = df['Age'].dropna() # removing Nan values \n",
    "age_sorted = age.sort_values() # sorting the age values\n",
    "median_index = len(age_sorted)//2 # finding the index for median \n",
    "if len(age_sorted)%2 == 0:\n",
    "    median = age_sorted.iloc[median_index-1:median_index+1].mean() # if even, taking the average of the two middle values \n",
    "else:\n",
    "    median = age_sorted.iloc[median_index] \n",
    "median"
   ]
  },
  {
   "cell_type": "code",
   "execution_count": null,
   "id": "657598ae",
   "metadata": {},
   "outputs": [],
   "source": [
    "# calculating the median of the 'Age' column by inbuilt function \n",
    "median = df['Age'].median() \n",
    "float(median)"
   ]
  },
  {
   "cell_type": "code",
   "execution_count": null,
   "id": "b684b530",
   "metadata": {},
   "outputs": [],
   "source": [
    "# plotting the distribution of 'Age column' \n",
    "import seaborn as sb\n",
    "sb.histplot(df['Age'],kde=True,bins=30) # histogram of 'Age column' with kde(kernel destiny estimation) "
   ]
  },
  {
   "cell_type": "markdown",
   "id": "464dc265",
   "metadata": {},
   "source": [
    "Above we can observe the center of data is indicated to be about 28 which is the median of age in actual\n",
    "And unlike mean, median is usually unaffected by outliers lets see through an example "
   ]
  },
  {
   "cell_type": "code",
   "execution_count": null,
   "id": "fc2c5e89",
   "metadata": {},
   "outputs": [],
   "source": [
    "float(age_sorted.iloc[-1])# checking the maximum age value "
   ]
  },
  {
   "cell_type": "code",
   "execution_count": null,
   "id": "032d4595",
   "metadata": {},
   "outputs": [],
   "source": [
    "age_sorted.add(110) #adding 110 to the sorted age values to check its effect on median \n",
    "median_after_addition = age_sorted.median() \n",
    "float(median_after_addition)"
   ]
  },
  {
   "cell_type": "markdown",
   "id": "3d761794",
   "metadata": {},
   "source": [
    "As we can observe the addition of 110 into sorted age column has no effect on the median "
   ]
  }
 ],
 "metadata": {
  "kernelspec": {
   "display_name": "Python 3",
   "language": "python",
   "name": "python3"
  },
  "language_info": {
   "codemirror_mode": {
    "name": "ipython",
    "version": 3
   },
   "file_extension": ".py",
   "mimetype": "text/x-python",
   "name": "python",
   "nbconvert_exporter": "python",
   "pygments_lexer": "ipython3",
   "version": "3.13.2"
  }
 },
 "nbformat": 4,
 "nbformat_minor": 5
}
