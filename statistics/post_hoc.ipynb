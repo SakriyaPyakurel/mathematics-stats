{
 "cells": [
  {
   "cell_type": "markdown",
   "id": "12b651f3",
   "metadata": {},
   "source": [
    "# Post-hoc Tests "
   ]
  },
  {
   "cell_type": "markdown",
   "id": "22ba5110",
   "metadata": {},
   "source": [
    "After conducting an ANOVA and finding a significant difference, a post hoc test is needed to determine exactly which groups differ from each other.<br>\n",
    "Demonstration of post hoc tests for one-way,two-way and N-way ANOVA"
   ]
  },
  {
   "cell_type": "markdown",
   "id": "c307f298",
   "metadata": {},
   "source": [
    "1. One way ANOVA"
   ]
  },
  {
   "cell_type": "code",
   "execution_count": 3,
   "id": "b07a428b",
   "metadata": {},
   "outputs": [
    {
     "name": "stdout",
     "output_type": "stream",
     "text": [
      "                    sum_sq     df         F    PR(>F)\n",
      "C(survived)     897.187582    1.0  4.271195  0.039125\n",
      "Residual     149559.448362  712.0       NaN       NaN\n",
      "Multiple Comparison of Means - Tukey HSD, FWER=0.05\n",
      "===============================================\n",
      "group1 group2 meandiff p-adj lower upper reject\n",
      "-----------------------------------------------\n",
      "     0      1      nan   nan   nan   nan  False\n",
      "-----------------------------------------------\n"
     ]
    }
   ],
   "source": [
    "# post hoc test for multiple comparisons \n",
    "import seaborn as sb\n",
    "import statsmodels.api as sm\n",
    "from statsmodels.formula.api import ols\n",
    "from statsmodels.stats.multicomp import pairwise_tukeyhsd\n",
    "# Load the dataset\n",
    "data = sb.load_dataset('titanic')\n",
    "# Perform one-way ANOVA \n",
    "model = ols('age ~ C(survived)', data=data).fit() \n",
    "anova_table = sm.stats.anova_lm(model, typ=2)\n",
    "print(anova_table) \n",
    "# Perform Tukey's HSD test for multiple comparisons \n",
    "tukey = pairwise_tukeyhsd(endog=data['age'], groups=data['survived'], alpha=0.05) \n",
    "print(tukey)"
   ]
  },
  {
   "cell_type": "markdown",
   "id": "01a8dbfb",
   "metadata": {},
   "source": [
    "Interpretation:\n",
    "This is a post-hoc test used to compare all pairs of groups after a significant ANOVA result.\n",
    "\n",
    "meandiff, p-adj, lower, upper are all NaN, and reject is False.\n",
    "\n",
    "This likely means:\n",
    "\n",
    "i. There is either missing data or\n",
    "\n",
    "ii. The grouping variable Survived has fewer than 2 valid groups in the post-hoc subset."
   ]
  },
  {
   "cell_type": "markdown",
   "id": "d82d1826",
   "metadata": {},
   "source": [
    "2. Two way ANOVA"
   ]
  },
  {
   "cell_type": "code",
   "execution_count": 12,
   "id": "2cb0ff94",
   "metadata": {},
   "outputs": [
    {
     "name": "stdout",
     "output_type": "stream",
     "text": [
      "                    sum_sq     df          F        PR(>F)\n",
      "C(survived)    7523.129884    1.0  43.780758  7.235629e-11\n",
      "C(pclass)     27555.570057    2.0  80.179643  4.015342e-32\n",
      "Residual     122003.878306  710.0        NaN           NaN\n",
      "Multiple Comparison of Means - Tukey HSD, FWER=0.05\n",
      "===============================================\n",
      "group1 group2 meandiff p-adj lower upper reject\n",
      "-----------------------------------------------\n",
      "   0_1    0_2      nan   nan   nan   nan  False\n",
      "   0_1    0_3      nan   nan   nan   nan  False\n",
      "   0_1    1_1      nan   nan   nan   nan  False\n",
      "   0_1    1_2      nan   nan   nan   nan  False\n",
      "   0_1    1_3      nan   nan   nan   nan  False\n",
      "   0_2    0_3      nan   nan   nan   nan  False\n",
      "   0_2    1_1      nan   nan   nan   nan  False\n",
      "   0_2    1_2      nan   nan   nan   nan  False\n",
      "   0_2    1_3      nan   nan   nan   nan  False\n",
      "   0_3    1_1      nan   nan   nan   nan  False\n",
      "   0_3    1_2      nan   nan   nan   nan  False\n",
      "   0_3    1_3      nan   nan   nan   nan  False\n",
      "   1_1    1_2      nan   nan   nan   nan  False\n",
      "   1_1    1_3      nan   nan   nan   nan  False\n",
      "   1_2    1_3      nan   nan   nan   nan  False\n",
      "-----------------------------------------------\n"
     ]
    }
   ],
   "source": [
    "# post-hoc test for two-way ANOVA \n",
    "model2 = ols('age ~ C(survived) + C(pclass)', data=data).fit()\n",
    "anova_table2 = sm.stats.anova_lm(model2, typ=2)\n",
    "print(anova_table2)\n",
    "# Perform Tukey's HSD test for two-way ANOVA\n",
    "tukey2 = pairwise_tukeyhsd(endog=data['age'], groups=data[['survived', 'pclass']].apply(lambda x: '_'.join(x.astype(str)), axis=1), alpha=0.05)\n",
    "print(tukey2)"
   ]
  },
  {
   "cell_type": "markdown",
   "id": "5d6c54bf",
   "metadata": {},
   "source": [
    "3. N-way(3-way) ANOVA"
   ]
  },
  {
   "cell_type": "code",
   "execution_count": 4,
   "id": "b52f0e0e",
   "metadata": {},
   "outputs": [
    {
     "name": "stdout",
     "output_type": "stream",
     "text": [
      "                    sum_sq     df          F        PR(>F)\n",
      "C(survived)    4360.534586    1.0  25.387474  5.957424e-07\n",
      "C(pclass)     27216.635455    2.0  79.229003  8.810723e-32\n",
      "C(sex)          226.537529    1.0   1.318924  2.511725e-01\n",
      "Residual     121777.340777  709.0        NaN           NaN\n",
      "  Multiple Comparison of Means - Tukey HSD, FWER=0.05  \n",
      "=======================================================\n",
      "  group1     group2   meandiff p-adj lower upper reject\n",
      "-------------------------------------------------------\n",
      "0_1_female   0_1_male      nan   nan   nan   nan  False\n",
      "0_1_female 0_2_female  10.3333   nan   nan   nan  False\n",
      "0_1_female   0_2_male      nan   nan   nan   nan  False\n",
      "0_1_female 0_3_female      nan   nan   nan   nan  False\n",
      "0_1_female   0_3_male      nan   nan   nan   nan  False\n",
      "0_1_female 1_1_female      nan   nan   nan   nan  False\n",
      "0_1_female   1_1_male      nan   nan   nan   nan  False\n",
      "0_1_female 1_2_female      nan   nan   nan   nan  False\n",
      "0_1_female   1_2_male      nan   nan   nan   nan  False\n",
      "0_1_female 1_3_female      nan   nan   nan   nan  False\n",
      "0_1_female   1_3_male      nan   nan   nan   nan  False\n",
      "  0_1_male 0_2_female      nan   nan   nan   nan  False\n",
      "  0_1_male   0_2_male      nan   nan   nan   nan  False\n",
      "  0_1_male 0_3_female      nan   nan   nan   nan  False\n",
      "  0_1_male   0_3_male      nan   nan   nan   nan  False\n",
      "  0_1_male 1_1_female      nan   nan   nan   nan  False\n",
      "  0_1_male   1_1_male      nan   nan   nan   nan  False\n",
      "  0_1_male 1_2_female      nan   nan   nan   nan  False\n",
      "  0_1_male   1_2_male      nan   nan   nan   nan  False\n",
      "  0_1_male 1_3_female      nan   nan   nan   nan  False\n",
      "  0_1_male   1_3_male      nan   nan   nan   nan  False\n",
      "0_2_female   0_2_male      nan   nan   nan   nan  False\n",
      "0_2_female 0_3_female      nan   nan   nan   nan  False\n",
      "0_2_female   0_3_male      nan   nan   nan   nan  False\n",
      "0_2_female 1_1_female      nan   nan   nan   nan  False\n",
      "0_2_female   1_1_male      nan   nan   nan   nan  False\n",
      "0_2_female 1_2_female      nan   nan   nan   nan  False\n",
      "0_2_female   1_2_male      nan   nan   nan   nan  False\n",
      "0_2_female 1_3_female      nan   nan   nan   nan  False\n",
      "0_2_female   1_3_male      nan   nan   nan   nan  False\n",
      "  0_2_male 0_3_female      nan   nan   nan   nan  False\n",
      "  0_2_male   0_3_male      nan   nan   nan   nan  False\n",
      "  0_2_male 1_1_female      nan   nan   nan   nan  False\n",
      "  0_2_male   1_1_male      nan   nan   nan   nan  False\n",
      "  0_2_male 1_2_female      nan   nan   nan   nan  False\n",
      "  0_2_male   1_2_male      nan   nan   nan   nan  False\n",
      "  0_2_male 1_3_female      nan   nan   nan   nan  False\n",
      "  0_2_male   1_3_male      nan   nan   nan   nan  False\n",
      "0_3_female   0_3_male      nan   nan   nan   nan  False\n",
      "0_3_female 1_1_female      nan   nan   nan   nan  False\n",
      "0_3_female   1_1_male      nan   nan   nan   nan  False\n",
      "0_3_female 1_2_female      nan   nan   nan   nan  False\n",
      "0_3_female   1_2_male      nan   nan   nan   nan  False\n",
      "0_3_female 1_3_female      nan   nan   nan   nan  False\n",
      "0_3_female   1_3_male      nan   nan   nan   nan  False\n",
      "  0_3_male 1_1_female      nan   nan   nan   nan  False\n",
      "  0_3_male   1_1_male      nan   nan   nan   nan  False\n",
      "  0_3_male 1_2_female      nan   nan   nan   nan  False\n",
      "  0_3_male   1_2_male      nan   nan   nan   nan  False\n",
      "  0_3_male 1_3_female      nan   nan   nan   nan  False\n",
      "  0_3_male   1_3_male      nan   nan   nan   nan  False\n",
      "1_1_female   1_1_male      nan   nan   nan   nan  False\n",
      "1_1_female 1_2_female      nan   nan   nan   nan  False\n",
      "1_1_female   1_2_male      nan   nan   nan   nan  False\n",
      "1_1_female 1_3_female      nan   nan   nan   nan  False\n",
      "1_1_female   1_3_male      nan   nan   nan   nan  False\n",
      "  1_1_male 1_2_female      nan   nan   nan   nan  False\n",
      "  1_1_male   1_2_male      nan   nan   nan   nan  False\n",
      "  1_1_male 1_3_female      nan   nan   nan   nan  False\n",
      "  1_1_male   1_3_male      nan   nan   nan   nan  False\n",
      "1_2_female   1_2_male      nan   nan   nan   nan  False\n",
      "1_2_female 1_3_female      nan   nan   nan   nan  False\n",
      "1_2_female   1_3_male      nan   nan   nan   nan  False\n",
      "  1_2_male 1_3_female      nan   nan   nan   nan  False\n",
      "  1_2_male   1_3_male      nan   nan   nan   nan  False\n",
      "1_3_female   1_3_male      nan   nan   nan   nan  False\n",
      "-------------------------------------------------------\n"
     ]
    }
   ],
   "source": [
    "#post hoc test for 3-way ANOVA \n",
    "model3 = ols('age ~ C(survived) + C(pclass) + C(sex)',data=data).fit()\n",
    "anova_table3 = sm.stats.anova_lm(model3, typ=2)\n",
    "print(anova_table3)\n",
    "# Perform Tukey's HSD test for three-way ANOVA\n",
    "tukey3 = pairwise_tukeyhsd(\n",
    "    endog=data['age'],\n",
    "    groups=data[['survived', 'pclass', 'sex']].apply(lambda x: '_'.join(x.astype(str)), axis=1),\n",
    "    alpha=0.05)\n",
    "print(tukey3)"
   ]
  }
 ],
 "metadata": {
  "kernelspec": {
   "display_name": "Python 3",
   "language": "python",
   "name": "python3"
  },
  "language_info": {
   "codemirror_mode": {
    "name": "ipython",
    "version": 3
   },
   "file_extension": ".py",
   "mimetype": "text/x-python",
   "name": "python",
   "nbconvert_exporter": "python",
   "pygments_lexer": "ipython3",
   "version": "3.13.2"
  }
 },
 "nbformat": 4,
 "nbformat_minor": 5
}
