{
 "cells": [
  {
   "cell_type": "code",
   "execution_count": 1,
   "id": "6284425d",
   "metadata": {},
   "outputs": [
    {
     "data": {
      "text/plain": [
       "array([[0.33769592, 0.65156364, 0.08633031],\n",
       "       [0.35416524, 0.0565022 , 0.1239478 ],\n",
       "       [0.18984336, 0.77908977, 0.4239706 ],\n",
       "       [0.85979632, 0.94029535, 0.22066617]])"
      ]
     },
     "execution_count": 1,
     "metadata": {},
     "output_type": "execute_result"
    }
   ],
   "source": [
    "import numpy as np \n",
    "# generate a random matrix of order 4X3 \n",
    "m = np.random.rand(4,3) \n",
    "m"
   ]
  },
  {
   "cell_type": "code",
   "execution_count": 2,
   "id": "0aaa94cf",
   "metadata": {},
   "outputs": [],
   "source": [
    "# Singular Value Decomposition (SVD) \n",
    "U,S,VT = np.linalg.svd(m) "
   ]
  },
  {
   "cell_type": "code",
   "execution_count": 3,
   "id": "6c633ac2",
   "metadata": {},
   "outputs": [
    {
     "data": {
      "text/plain": [
       "array([[-0.42514575,  0.09603637,  0.56178312, -0.70315562],\n",
       "       [-0.15764175, -0.47486292, -0.69104177, -0.52164696],\n",
       "       [-0.4869214 ,  0.75288058, -0.44048303,  0.04531081],\n",
       "       [-0.74653045, -0.44548069,  0.1132947 ,  0.48104422]])"
      ]
     },
     "execution_count": 3,
     "metadata": {},
     "output_type": "execute_result"
    }
   ],
   "source": [
    "U"
   ]
  },
  {
   "cell_type": "code",
   "execution_count": null,
   "id": "291fb3c0",
   "metadata": {},
   "outputs": [
    {
     "data": {
      "text/plain": [
       "array([1.7099151 , 0.46005386, 0.22232197])"
      ]
     },
     "execution_count": 4,
     "metadata": {},
     "output_type": "execute_result"
    }
   ],
   "source": [
    "S"
   ]
  },
  {
   "cell_type": "code",
   "execution_count": 5,
   "id": "ad7f7870",
   "metadata": {},
   "outputs": [
    {
     "data": {
      "text/plain": [
       "array([[-0.54605293, -0.79959012, -0.24996369],\n",
       "       [-0.81695244,  0.44216812,  0.37023785],\n",
       "       [-0.18551255,  0.40637791, -0.89467429]])"
      ]
     },
     "execution_count": 5,
     "metadata": {},
     "output_type": "execute_result"
    }
   ],
   "source": [
    "VT"
   ]
  }
 ],
 "metadata": {
  "kernelspec": {
   "display_name": "Python 3",
   "language": "python",
   "name": "python3"
  },
  "language_info": {
   "codemirror_mode": {
    "name": "ipython",
    "version": 3
   },
   "file_extension": ".py",
   "mimetype": "text/x-python",
   "name": "python",
   "nbconvert_exporter": "python",
   "pygments_lexer": "ipython3",
   "version": "3.13.2"
  }
 },
 "nbformat": 4,
 "nbformat_minor": 5
}
